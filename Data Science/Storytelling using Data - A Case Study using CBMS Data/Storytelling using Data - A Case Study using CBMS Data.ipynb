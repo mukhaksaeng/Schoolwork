{
 "cells": [
  {
   "cell_type": "markdown",
   "metadata": {},
   "source": [
    "# Storytelling using Data: A Case Study using CBMS Data*"
   ]
  },
  {
   "cell_type": "markdown",
   "metadata": {},
   "source": [
    "#### Justin Gabrielle A. Manay\n",
    "###### *Pasay CBMS data is confidential and cannot be included with this project"
   ]
  },
  {
   "cell_type": "markdown",
   "metadata": {},
   "source": [
    "## 1. Introduction"
   ]
  },
  {
   "cell_type": "markdown",
   "metadata": {},
   "source": [
    "Poverty remains a prevalent issue in the Philippines today, and there are a multitude of factors which can affect it. The aim of this notebook is to look into how the educational attainment of the household head affects a household’s poverty status using Pasay City data from 2014 CBMS surveys and Python. \n",
    "\n",
    "Three key points will be considered in the exploratory analysis, namely: the relationship between the educational attainment of the household head and poverty, how the former affects his/her children’s educational outcomes, and how it can also affect his/her job status. We will see later on how the results can help us view education (or the lack thereof) as a poverty trap, effectively locking families into a cycle of poverty. \n",
    "\n",
    "Note that the 2014 Pasay CBMS dataset (household and members dataset) was used for this notebook. This dataset is confidential, so the notebook cannot be run as normal."
   ]
  },
  {
   "cell_type": "code",
   "execution_count": 1,
   "metadata": {},
   "outputs": [],
   "source": [
    "import pandas as pd\n",
    "import numpy as np\n",
    "import matplotlib.pyplot as plt"
   ]
  },
  {
   "cell_type": "markdown",
   "metadata": {},
   "source": [
    "## 2. Data Cleaning"
   ]
  },
  {
   "cell_type": "markdown",
   "metadata": {},
   "source": [
    "Before loading the dataset, create a folder containing the 2014 csv files called \"Pasay_2014_csv\". Make sure that the jupyter notebook is in the same directory as the folder. We only loaded \"main.csv\" and \"hpq_mem.csv\"."
   ]
  },
  {
   "cell_type": "code",
   "execution_count": 296,
   "metadata": {},
   "outputs": [],
   "source": [
    "# Load 2014 data\n",
    "df_hh_2014 = pd.read_csv(\"Pasay_2014_csv/main.csv\", encoding = \"latin1\", low_memory = False)\n",
    "df_mem_2014 = pd.read_csv(\"Pasay_2014_csv/hpq_mem.csv\", encoding = \"latin1\", low_memory = False)"
   ]
  },
  {
   "cell_type": "markdown",
   "metadata": {},
   "source": [
    "For this study, two variables in particular need to be cleaned: (1) `totin`, or total annual income (located in `df_hh_2014`) and (2) `reln` or the relationship of each member to the household head (located in `df_mem_2014`)."
   ]
  },
  {
   "cell_type": "markdown",
   "metadata": {},
   "source": [
    "#### 1) Cleaning `totin`"
   ]
  },
  {
   "cell_type": "markdown",
   "metadata": {},
   "source": [
    "There are values of `totin` which do not make any sense. For example, if we check for values where `totin` = 0.0,"
   ]
  },
  {
   "cell_type": "code",
   "execution_count": 297,
   "metadata": {},
   "outputs": [
    {
     "data": {
      "text/html": [
       "<div>\n",
       "<style scoped>\n",
       "    .dataframe tbody tr th:only-of-type {\n",
       "        vertical-align: middle;\n",
       "    }\n",
       "\n",
       "    .dataframe tbody tr th {\n",
       "        vertical-align: top;\n",
       "    }\n",
       "\n",
       "    .dataframe thead th {\n",
       "        text-align: right;\n",
       "    }\n",
       "</style>\n",
       "<table border=\"1\" class=\"dataframe\">\n",
       "  <thead>\n",
       "    <tr style=\"text-align: right;\">\n",
       "      <th></th>\n",
       "      <th>mainid</th>\n",
       "      <th>mainworkgroup</th>\n",
       "      <th>maindeviceserial</th>\n",
       "      <th>maintransferdate</th>\n",
       "      <th>androiddescription</th>\n",
       "      <th>geopoint_hh_ind</th>\n",
       "      <th>geopoint_hhlongitude</th>\n",
       "      <th>geopoint_hhlatitude</th>\n",
       "      <th>geopoint_hhaltitude</th>\n",
       "      <th>geopoint_hhaccuracy</th>\n",
       "      <th>...</th>\n",
       "      <th>prog_phiheal_spon_nmem</th>\n",
       "      <th>prog_phiheal_spon_impl</th>\n",
       "      <th>prog_phiheal_spon_impl_o</th>\n",
       "      <th>prog_phiheal_life</th>\n",
       "      <th>prog_phiheal_life_nmem</th>\n",
       "      <th>nprog</th>\n",
       "      <th>end_time</th>\n",
       "      <th>Unnamed: 486</th>\n",
       "      <th>Unnamed: 487</th>\n",
       "      <th>Unnamed: 488</th>\n",
       "    </tr>\n",
       "  </thead>\n",
       "  <tbody>\n",
       "    <tr>\n",
       "      <th>516</th>\n",
       "      <td>2712335</td>\n",
       "      <td>137605000</td>\n",
       "      <td>b077b6800e8e7c8b</td>\n",
       "      <td>40:57.3</td>\n",
       "      <td>76 05 2 021 99 3227</td>\n",
       "      <td>00:00.0</td>\n",
       "      <td>120.9919</td>\n",
       "      <td>14.55432</td>\n",
       "      <td>83.7</td>\n",
       "      <td>20.0</td>\n",
       "      <td>...</td>\n",
       "      <td>0</td>\n",
       "      <td>NaN</td>\n",
       "      <td>NaN</td>\n",
       "      <td>2</td>\n",
       "      <td>0</td>\n",
       "      <td>0</td>\n",
       "      <td>22:43</td>\n",
       "      <td>NaN</td>\n",
       "      <td>NaN</td>\n",
       "      <td>NaN</td>\n",
       "    </tr>\n",
       "    <tr>\n",
       "      <th>1289</th>\n",
       "      <td>1591428</td>\n",
       "      <td>137605000</td>\n",
       "      <td>3be01109b8455128</td>\n",
       "      <td>21:13.5</td>\n",
       "      <td>76 05 6 046 99 10041</td>\n",
       "      <td>00:00.0</td>\n",
       "      <td>120.9984</td>\n",
       "      <td>14.55515</td>\n",
       "      <td>35.4</td>\n",
       "      <td>25.0</td>\n",
       "      <td>...</td>\n",
       "      <td>0</td>\n",
       "      <td>NaN</td>\n",
       "      <td>NaN</td>\n",
       "      <td>2</td>\n",
       "      <td>0</td>\n",
       "      <td>0</td>\n",
       "      <td>10:16</td>\n",
       "      <td>NaN</td>\n",
       "      <td>NaN</td>\n",
       "      <td>NaN</td>\n",
       "    </tr>\n",
       "    <tr>\n",
       "      <th>1890</th>\n",
       "      <td>1494386</td>\n",
       "      <td>137605000</td>\n",
       "      <td>285a228355aed69b</td>\n",
       "      <td>27:16.2</td>\n",
       "      <td>76 05 8 063 99 14186</td>\n",
       "      <td>00:00.0</td>\n",
       "      <td>121.0027</td>\n",
       "      <td>14.55035</td>\n",
       "      <td>-1.7</td>\n",
       "      <td>15.0</td>\n",
       "      <td>...</td>\n",
       "      <td>0</td>\n",
       "      <td>NaN</td>\n",
       "      <td>NaN</td>\n",
       "      <td>2</td>\n",
       "      <td>0</td>\n",
       "      <td>0</td>\n",
       "      <td>13:44</td>\n",
       "      <td>NaN</td>\n",
       "      <td>NaN</td>\n",
       "      <td>NaN</td>\n",
       "    </tr>\n",
       "    <tr>\n",
       "      <th>2388</th>\n",
       "      <td>80338</td>\n",
       "      <td>137605000</td>\n",
       "      <td>d1b4dbd3f5b2d9d1</td>\n",
       "      <td>50:00.1</td>\n",
       "      <td>76 05 9 072 99 16519</td>\n",
       "      <td>00:00.0</td>\n",
       "      <td>120.9965</td>\n",
       "      <td>14.54418</td>\n",
       "      <td>91.0</td>\n",
       "      <td>10.0</td>\n",
       "      <td>...</td>\n",
       "      <td>0</td>\n",
       "      <td>NaN</td>\n",
       "      <td>NaN</td>\n",
       "      <td>2</td>\n",
       "      <td>0</td>\n",
       "      <td>0</td>\n",
       "      <td>12:02</td>\n",
       "      <td>NaN</td>\n",
       "      <td>NaN</td>\n",
       "      <td>NaN</td>\n",
       "    </tr>\n",
       "    <tr>\n",
       "      <th>2578</th>\n",
       "      <td>3649041</td>\n",
       "      <td>137605000</td>\n",
       "      <td>572c634ca8f13099</td>\n",
       "      <td>45:25.5</td>\n",
       "      <td>76 05 10 075 99 18793</td>\n",
       "      <td>00:00.0</td>\n",
       "      <td>120.9972</td>\n",
       "      <td>14.53783</td>\n",
       "      <td>121.7</td>\n",
       "      <td>25.0</td>\n",
       "      <td>...</td>\n",
       "      <td>0</td>\n",
       "      <td>NaN</td>\n",
       "      <td>NaN</td>\n",
       "      <td>2</td>\n",
       "      <td>0</td>\n",
       "      <td>0</td>\n",
       "      <td>10:23</td>\n",
       "      <td>NaN</td>\n",
       "      <td>NaN</td>\n",
       "      <td>NaN</td>\n",
       "    </tr>\n",
       "    <tr>\n",
       "      <th>2591</th>\n",
       "      <td>1074568</td>\n",
       "      <td>137605000</td>\n",
       "      <td>a789239fb67f38f0</td>\n",
       "      <td>13:14.6</td>\n",
       "      <td>76 05 10 077 99 19066</td>\n",
       "      <td>00:00.0</td>\n",
       "      <td>120.9970</td>\n",
       "      <td>14.53591</td>\n",
       "      <td>-20.0</td>\n",
       "      <td>20.0</td>\n",
       "      <td>...</td>\n",
       "      <td>0</td>\n",
       "      <td>NaN</td>\n",
       "      <td>NaN</td>\n",
       "      <td>2</td>\n",
       "      <td>0</td>\n",
       "      <td>0</td>\n",
       "      <td>5:04</td>\n",
       "      <td>NaN</td>\n",
       "      <td>NaN</td>\n",
       "      <td>NaN</td>\n",
       "    </tr>\n",
       "    <tr>\n",
       "      <th>2602</th>\n",
       "      <td>1074561</td>\n",
       "      <td>137605000</td>\n",
       "      <td>a789239fb67f38f0</td>\n",
       "      <td>13:08.1</td>\n",
       "      <td>76 05 10 077 99 19136</td>\n",
       "      <td>00:00.0</td>\n",
       "      <td>120.9972</td>\n",
       "      <td>14.53599</td>\n",
       "      <td>-19.7</td>\n",
       "      <td>20.0</td>\n",
       "      <td>...</td>\n",
       "      <td>0</td>\n",
       "      <td>NaN</td>\n",
       "      <td>NaN</td>\n",
       "      <td>2</td>\n",
       "      <td>0</td>\n",
       "      <td>0</td>\n",
       "      <td>1:02</td>\n",
       "      <td>NaN</td>\n",
       "      <td>NaN</td>\n",
       "      <td>NaN</td>\n",
       "    </tr>\n",
       "    <tr>\n",
       "      <th>2604</th>\n",
       "      <td>1074564</td>\n",
       "      <td>137605000</td>\n",
       "      <td>a789239fb67f38f0</td>\n",
       "      <td>13:11.3</td>\n",
       "      <td>76 05 10 077 99 19152</td>\n",
       "      <td>00:00.0</td>\n",
       "      <td>120.9971</td>\n",
       "      <td>14.53608</td>\n",
       "      <td>-14.0</td>\n",
       "      <td>20.0</td>\n",
       "      <td>...</td>\n",
       "      <td>0</td>\n",
       "      <td>NaN</td>\n",
       "      <td>NaN</td>\n",
       "      <td>2</td>\n",
       "      <td>0</td>\n",
       "      <td>0</td>\n",
       "      <td>13:56</td>\n",
       "      <td>NaN</td>\n",
       "      <td>NaN</td>\n",
       "      <td>NaN</td>\n",
       "    </tr>\n",
       "    <tr>\n",
       "      <th>2671</th>\n",
       "      <td>2603395</td>\n",
       "      <td>137605000</td>\n",
       "      <td>78e6594d3d72ad06</td>\n",
       "      <td>35:19.5</td>\n",
       "      <td>76 05 10 083 99 20062</td>\n",
       "      <td>00:00.0</td>\n",
       "      <td>120.9944</td>\n",
       "      <td>14.54377</td>\n",
       "      <td>109.7</td>\n",
       "      <td>15.0</td>\n",
       "      <td>...</td>\n",
       "      <td>0</td>\n",
       "      <td>NaN</td>\n",
       "      <td>NaN</td>\n",
       "      <td>2</td>\n",
       "      <td>0</td>\n",
       "      <td>0</td>\n",
       "      <td>17:13</td>\n",
       "      <td>NaN</td>\n",
       "      <td>NaN</td>\n",
       "      <td>NaN</td>\n",
       "    </tr>\n",
       "    <tr>\n",
       "      <th>2717</th>\n",
       "      <td>1385197</td>\n",
       "      <td>137605000</td>\n",
       "      <td>839316aadd3c</td>\n",
       "      <td>37:10.8</td>\n",
       "      <td>76 05 11 094 99 20536</td>\n",
       "      <td>00:00.0</td>\n",
       "      <td>120.9995</td>\n",
       "      <td>14.54612</td>\n",
       "      <td>26.3</td>\n",
       "      <td>20.0</td>\n",
       "      <td>...</td>\n",
       "      <td>0</td>\n",
       "      <td>NaN</td>\n",
       "      <td>NaN</td>\n",
       "      <td>2</td>\n",
       "      <td>0</td>\n",
       "      <td>0</td>\n",
       "      <td>12:19</td>\n",
       "      <td>NaN</td>\n",
       "      <td>NaN</td>\n",
       "      <td>NaN</td>\n",
       "    </tr>\n",
       "    <tr>\n",
       "      <th>2732</th>\n",
       "      <td>1008102</td>\n",
       "      <td>137605000</td>\n",
       "      <td>839316aadd3c</td>\n",
       "      <td>05:35.6</td>\n",
       "      <td>76 05 11 094 99 20595</td>\n",
       "      <td>00:00.0</td>\n",
       "      <td>121.0009</td>\n",
       "      <td>14.54391</td>\n",
       "      <td>125.7</td>\n",
       "      <td>15.0</td>\n",
       "      <td>...</td>\n",
       "      <td>0</td>\n",
       "      <td>NaN</td>\n",
       "      <td>NaN</td>\n",
       "      <td>1</td>\n",
       "      <td>1</td>\n",
       "      <td>0</td>\n",
       "      <td>12:14</td>\n",
       "      <td>NaN</td>\n",
       "      <td>NaN</td>\n",
       "      <td>NaN</td>\n",
       "    </tr>\n",
       "    <tr>\n",
       "      <th>2793</th>\n",
       "      <td>2715225</td>\n",
       "      <td>137605000</td>\n",
       "      <td>d5a7310e30ca9a1c</td>\n",
       "      <td>22:21.6</td>\n",
       "      <td>76 05 11 096 99 20933</td>\n",
       "      <td>00:00.0</td>\n",
       "      <td>121.0008</td>\n",
       "      <td>14.54406</td>\n",
       "      <td>61.7</td>\n",
       "      <td>20.0</td>\n",
       "      <td>...</td>\n",
       "      <td>0</td>\n",
       "      <td>NaN</td>\n",
       "      <td>NaN</td>\n",
       "      <td>2</td>\n",
       "      <td>0</td>\n",
       "      <td>0</td>\n",
       "      <td>10:07</td>\n",
       "      <td>NaN</td>\n",
       "      <td>NaN</td>\n",
       "      <td>NaN</td>\n",
       "    </tr>\n",
       "    <tr>\n",
       "      <th>2951</th>\n",
       "      <td>936116</td>\n",
       "      <td>137605000</td>\n",
       "      <td>839316aadd3c</td>\n",
       "      <td>09:57.3</td>\n",
       "      <td>76 05 11 095 99 22098</td>\n",
       "      <td>00:00.0</td>\n",
       "      <td>120.9997</td>\n",
       "      <td>14.54772</td>\n",
       "      <td>35.7</td>\n",
       "      <td>20.0</td>\n",
       "      <td>...</td>\n",
       "      <td>0</td>\n",
       "      <td>NaN</td>\n",
       "      <td>NaN</td>\n",
       "      <td>2</td>\n",
       "      <td>0</td>\n",
       "      <td>0</td>\n",
       "      <td>16:23</td>\n",
       "      <td>NaN</td>\n",
       "      <td>NaN</td>\n",
       "      <td>NaN</td>\n",
       "    </tr>\n",
       "    <tr>\n",
       "      <th>3473</th>\n",
       "      <td>2914509</td>\n",
       "      <td>137605000</td>\n",
       "      <td>18a11ff27e6faa9</td>\n",
       "      <td>47:27.6</td>\n",
       "      <td>76 05 12 124 99 24922</td>\n",
       "      <td>00:00.0</td>\n",
       "      <td>121.0052</td>\n",
       "      <td>14.54498</td>\n",
       "      <td>35.3</td>\n",
       "      <td>20.0</td>\n",
       "      <td>...</td>\n",
       "      <td>1</td>\n",
       "      <td>1.0</td>\n",
       "      <td>NaN</td>\n",
       "      <td>2</td>\n",
       "      <td>0</td>\n",
       "      <td>0</td>\n",
       "      <td>11:35</td>\n",
       "      <td>NaN</td>\n",
       "      <td>NaN</td>\n",
       "      <td>NaN</td>\n",
       "    </tr>\n",
       "    <tr>\n",
       "      <th>3540</th>\n",
       "      <td>667396</td>\n",
       "      <td>137605000</td>\n",
       "      <td>55fb967c4cdc7265</td>\n",
       "      <td>15:22.8</td>\n",
       "      <td>76 05 12 125 99 25179</td>\n",
       "      <td>00:00.0</td>\n",
       "      <td>121.0045</td>\n",
       "      <td>14.54497</td>\n",
       "      <td>60.1</td>\n",
       "      <td>20.0</td>\n",
       "      <td>...</td>\n",
       "      <td>0</td>\n",
       "      <td>NaN</td>\n",
       "      <td>NaN</td>\n",
       "      <td>2</td>\n",
       "      <td>0</td>\n",
       "      <td>0</td>\n",
       "      <td>15:15</td>\n",
       "      <td>NaN</td>\n",
       "      <td>NaN</td>\n",
       "      <td>NaN</td>\n",
       "    </tr>\n",
       "    <tr>\n",
       "      <th>3572</th>\n",
       "      <td>674405</td>\n",
       "      <td>137605000</td>\n",
       "      <td>55fb967c4cdc7265</td>\n",
       "      <td>18:34.4</td>\n",
       "      <td>76 05 12 125 99 25258</td>\n",
       "      <td>00:00.0</td>\n",
       "      <td>121.0047</td>\n",
       "      <td>14.54528</td>\n",
       "      <td>51.0</td>\n",
       "      <td>15.0</td>\n",
       "      <td>...</td>\n",
       "      <td>0</td>\n",
       "      <td>NaN</td>\n",
       "      <td>NaN</td>\n",
       "      <td>2</td>\n",
       "      <td>0</td>\n",
       "      <td>0</td>\n",
       "      <td>14:56</td>\n",
       "      <td>NaN</td>\n",
       "      <td>NaN</td>\n",
       "      <td>NaN</td>\n",
       "    </tr>\n",
       "    <tr>\n",
       "      <th>3598</th>\n",
       "      <td>489410</td>\n",
       "      <td>137605000</td>\n",
       "      <td>2a2d79891fed654e</td>\n",
       "      <td>56:00.4</td>\n",
       "      <td>76 05 12 125 99 25340</td>\n",
       "      <td>00:00.0</td>\n",
       "      <td>121.0051</td>\n",
       "      <td>14.54494</td>\n",
       "      <td>60.8</td>\n",
       "      <td>10.0</td>\n",
       "      <td>...</td>\n",
       "      <td>0</td>\n",
       "      <td>NaN</td>\n",
       "      <td>NaN</td>\n",
       "      <td>2</td>\n",
       "      <td>0</td>\n",
       "      <td>0</td>\n",
       "      <td>16:10</td>\n",
       "      <td>NaN</td>\n",
       "      <td>NaN</td>\n",
       "      <td>NaN</td>\n",
       "    </tr>\n",
       "    <tr>\n",
       "      <th>3635</th>\n",
       "      <td>1673663</td>\n",
       "      <td>137605000</td>\n",
       "      <td>eef7f7c2f76e4d15</td>\n",
       "      <td>34:58.4</td>\n",
       "      <td>76 05 13 127 1 25594</td>\n",
       "      <td>00:00.0</td>\n",
       "      <td>121.0062</td>\n",
       "      <td>14.54920</td>\n",
       "      <td>65.6</td>\n",
       "      <td>25.0</td>\n",
       "      <td>...</td>\n",
       "      <td>0</td>\n",
       "      <td>NaN</td>\n",
       "      <td>NaN</td>\n",
       "      <td>2</td>\n",
       "      <td>0</td>\n",
       "      <td>0</td>\n",
       "      <td>12:17</td>\n",
       "      <td>NaN</td>\n",
       "      <td>NaN</td>\n",
       "      <td>NaN</td>\n",
       "    </tr>\n",
       "    <tr>\n",
       "      <th>3728</th>\n",
       "      <td>1352605</td>\n",
       "      <td>137605000</td>\n",
       "      <td>1c18e221050a</td>\n",
       "      <td>30:31.8</td>\n",
       "      <td>76 05 13 128 99 26102</td>\n",
       "      <td>00:00.0</td>\n",
       "      <td>121.0075</td>\n",
       "      <td>14.54904</td>\n",
       "      <td>33.4</td>\n",
       "      <td>25.0</td>\n",
       "      <td>...</td>\n",
       "      <td>0</td>\n",
       "      <td>NaN</td>\n",
       "      <td>NaN</td>\n",
       "      <td>2</td>\n",
       "      <td>0</td>\n",
       "      <td>0</td>\n",
       "      <td>15:03</td>\n",
       "      <td>NaN</td>\n",
       "      <td>NaN</td>\n",
       "      <td>NaN</td>\n",
       "    </tr>\n",
       "    <tr>\n",
       "      <th>4475</th>\n",
       "      <td>1975881</td>\n",
       "      <td>137605000</td>\n",
       "      <td>6d40dba0d4351578</td>\n",
       "      <td>24:24.4</td>\n",
       "      <td>76 05 15 136 99 32057</td>\n",
       "      <td>00:00.0</td>\n",
       "      <td>121.0070</td>\n",
       "      <td>14.54172</td>\n",
       "      <td>54.8</td>\n",
       "      <td>20.0</td>\n",
       "      <td>...</td>\n",
       "      <td>0</td>\n",
       "      <td>NaN</td>\n",
       "      <td>NaN</td>\n",
       "      <td>2</td>\n",
       "      <td>0</td>\n",
       "      <td>0</td>\n",
       "      <td>11:33</td>\n",
       "      <td>NaN</td>\n",
       "      <td>NaN</td>\n",
       "      <td>NaN</td>\n",
       "    </tr>\n",
       "    <tr>\n",
       "      <th>4866</th>\n",
       "      <td>1281127</td>\n",
       "      <td>137605000</td>\n",
       "      <td>dbe13becdfb88560</td>\n",
       "      <td>20:29.8</td>\n",
       "      <td>76 05 16 146 99 35153</td>\n",
       "      <td>00:00.0</td>\n",
       "      <td>121.0018</td>\n",
       "      <td>14.53611</td>\n",
       "      <td>66.5</td>\n",
       "      <td>20.0</td>\n",
       "      <td>...</td>\n",
       "      <td>0</td>\n",
       "      <td>NaN</td>\n",
       "      <td>NaN</td>\n",
       "      <td>2</td>\n",
       "      <td>0</td>\n",
       "      <td>0</td>\n",
       "      <td>11:17</td>\n",
       "      <td>NaN</td>\n",
       "      <td>NaN</td>\n",
       "      <td>NaN</td>\n",
       "    </tr>\n",
       "    <tr>\n",
       "      <th>4976</th>\n",
       "      <td>1086704</td>\n",
       "      <td>137605000</td>\n",
       "      <td>4c1ec7abc885030d</td>\n",
       "      <td>20:41.6</td>\n",
       "      <td>76 05 16 149 99 36073</td>\n",
       "      <td>00:00.0</td>\n",
       "      <td>121.0037</td>\n",
       "      <td>14.53598</td>\n",
       "      <td>31.6</td>\n",
       "      <td>15.0</td>\n",
       "      <td>...</td>\n",
       "      <td>0</td>\n",
       "      <td>NaN</td>\n",
       "      <td>NaN</td>\n",
       "      <td>2</td>\n",
       "      <td>0</td>\n",
       "      <td>0</td>\n",
       "      <td>12:13</td>\n",
       "      <td>NaN</td>\n",
       "      <td>NaN</td>\n",
       "      <td>NaN</td>\n",
       "    </tr>\n",
       "    <tr>\n",
       "      <th>5339</th>\n",
       "      <td>1086709</td>\n",
       "      <td>137605000</td>\n",
       "      <td>4c1ec7abc885030d</td>\n",
       "      <td>21:04.3</td>\n",
       "      <td>76 05 16 149 99 37501</td>\n",
       "      <td>00:00.0</td>\n",
       "      <td>121.0039</td>\n",
       "      <td>14.53594</td>\n",
       "      <td>42.4</td>\n",
       "      <td>15.0</td>\n",
       "      <td>...</td>\n",
       "      <td>0</td>\n",
       "      <td>NaN</td>\n",
       "      <td>NaN</td>\n",
       "      <td>2</td>\n",
       "      <td>0</td>\n",
       "      <td>0</td>\n",
       "      <td>12:15</td>\n",
       "      <td>NaN</td>\n",
       "      <td>NaN</td>\n",
       "      <td>NaN</td>\n",
       "    </tr>\n",
       "    <tr>\n",
       "      <th>5893</th>\n",
       "      <td>204943</td>\n",
       "      <td>137605000</td>\n",
       "      <td>bab894649127e3ad</td>\n",
       "      <td>57:31.4</td>\n",
       "      <td>76 05 17 169 99 40555</td>\n",
       "      <td>00:00.0</td>\n",
       "      <td>121.0126</td>\n",
       "      <td>14.53771</td>\n",
       "      <td>44.9</td>\n",
       "      <td>20.0</td>\n",
       "      <td>...</td>\n",
       "      <td>0</td>\n",
       "      <td>NaN</td>\n",
       "      <td>NaN</td>\n",
       "      <td>2</td>\n",
       "      <td>0</td>\n",
       "      <td>0</td>\n",
       "      <td>10:55</td>\n",
       "      <td>NaN</td>\n",
       "      <td>NaN</td>\n",
       "      <td>NaN</td>\n",
       "    </tr>\n",
       "    <tr>\n",
       "      <th>5941</th>\n",
       "      <td>204961</td>\n",
       "      <td>137605000</td>\n",
       "      <td>bab894649127e3ad</td>\n",
       "      <td>58:00.0</td>\n",
       "      <td>76 05 17 169 99 40759</td>\n",
       "      <td>00:00.0</td>\n",
       "      <td>121.0116</td>\n",
       "      <td>14.53799</td>\n",
       "      <td>64.4</td>\n",
       "      <td>20.0</td>\n",
       "      <td>...</td>\n",
       "      <td>0</td>\n",
       "      <td>NaN</td>\n",
       "      <td>NaN</td>\n",
       "      <td>2</td>\n",
       "      <td>0</td>\n",
       "      <td>1</td>\n",
       "      <td>10:10</td>\n",
       "      <td>NaN</td>\n",
       "      <td>NaN</td>\n",
       "      <td>NaN</td>\n",
       "    </tr>\n",
       "    <tr>\n",
       "      <th>5953</th>\n",
       "      <td>204990</td>\n",
       "      <td>137605000</td>\n",
       "      <td>bab894649127e3ad</td>\n",
       "      <td>58:39.5</td>\n",
       "      <td>76 05 17 169 99 40816</td>\n",
       "      <td>00:00.0</td>\n",
       "      <td>121.0115</td>\n",
       "      <td>14.53817</td>\n",
       "      <td>72.3</td>\n",
       "      <td>20.0</td>\n",
       "      <td>...</td>\n",
       "      <td>0</td>\n",
       "      <td>NaN</td>\n",
       "      <td>NaN</td>\n",
       "      <td>2</td>\n",
       "      <td>0</td>\n",
       "      <td>0</td>\n",
       "      <td>16:37</td>\n",
       "      <td>NaN</td>\n",
       "      <td>NaN</td>\n",
       "      <td>NaN</td>\n",
       "    </tr>\n",
       "    <tr>\n",
       "      <th>6144</th>\n",
       "      <td>116772</td>\n",
       "      <td>137605000</td>\n",
       "      <td>424e83212300b1ee</td>\n",
       "      <td>48:42.3</td>\n",
       "      <td>76 05 17 172 99 41862</td>\n",
       "      <td>00:00.0</td>\n",
       "      <td>121.0126</td>\n",
       "      <td>14.53415</td>\n",
       "      <td>84.7</td>\n",
       "      <td>20.0</td>\n",
       "      <td>...</td>\n",
       "      <td>0</td>\n",
       "      <td>NaN</td>\n",
       "      <td>NaN</td>\n",
       "      <td>2</td>\n",
       "      <td>0</td>\n",
       "      <td>0</td>\n",
       "      <td>9:48</td>\n",
       "      <td>NaN</td>\n",
       "      <td>NaN</td>\n",
       "      <td>NaN</td>\n",
       "    </tr>\n",
       "    <tr>\n",
       "      <th>6463</th>\n",
       "      <td>254252</td>\n",
       "      <td>137605000</td>\n",
       "      <td>6b6779bd43fcd</td>\n",
       "      <td>37:43.1</td>\n",
       "      <td>76 05 18 163 99 43611</td>\n",
       "      <td>00:00.0</td>\n",
       "      <td>121.0074</td>\n",
       "      <td>14.53395</td>\n",
       "      <td>93.1</td>\n",
       "      <td>15.0</td>\n",
       "      <td>...</td>\n",
       "      <td>0</td>\n",
       "      <td>NaN</td>\n",
       "      <td>NaN</td>\n",
       "      <td>2</td>\n",
       "      <td>0</td>\n",
       "      <td>0</td>\n",
       "      <td>10:29</td>\n",
       "      <td>NaN</td>\n",
       "      <td>NaN</td>\n",
       "      <td>NaN</td>\n",
       "    </tr>\n",
       "    <tr>\n",
       "      <th>6962</th>\n",
       "      <td>833772</td>\n",
       "      <td>137605000</td>\n",
       "      <td>2372bc18ca27f0dc</td>\n",
       "      <td>41:29.7</td>\n",
       "      <td>76 05 18 177 99 46005</td>\n",
       "      <td>00:00.0</td>\n",
       "      <td>121.0104</td>\n",
       "      <td>14.53127</td>\n",
       "      <td>63.2</td>\n",
       "      <td>20.0</td>\n",
       "      <td>...</td>\n",
       "      <td>0</td>\n",
       "      <td>NaN</td>\n",
       "      <td>NaN</td>\n",
       "      <td>2</td>\n",
       "      <td>0</td>\n",
       "      <td>0</td>\n",
       "      <td>12:37</td>\n",
       "      <td>NaN</td>\n",
       "      <td>NaN</td>\n",
       "      <td>NaN</td>\n",
       "    </tr>\n",
       "    <tr>\n",
       "      <th>7043</th>\n",
       "      <td>1057124</td>\n",
       "      <td>137605000</td>\n",
       "      <td>2d44ab8970b3ca02</td>\n",
       "      <td>11:32.0</td>\n",
       "      <td>76 05 18 177 99 46371</td>\n",
       "      <td>00:00.0</td>\n",
       "      <td>121.0109</td>\n",
       "      <td>14.53063</td>\n",
       "      <td>18.5</td>\n",
       "      <td>15.0</td>\n",
       "      <td>...</td>\n",
       "      <td>1</td>\n",
       "      <td>3.0</td>\n",
       "      <td>NaN</td>\n",
       "      <td>2</td>\n",
       "      <td>0</td>\n",
       "      <td>1</td>\n",
       "      <td>12:46</td>\n",
       "      <td>NaN</td>\n",
       "      <td>NaN</td>\n",
       "      <td>NaN</td>\n",
       "    </tr>\n",
       "    <tr>\n",
       "      <th>...</th>\n",
       "      <td>...</td>\n",
       "      <td>...</td>\n",
       "      <td>...</td>\n",
       "      <td>...</td>\n",
       "      <td>...</td>\n",
       "      <td>...</td>\n",
       "      <td>...</td>\n",
       "      <td>...</td>\n",
       "      <td>...</td>\n",
       "      <td>...</td>\n",
       "      <td>...</td>\n",
       "      <td>...</td>\n",
       "      <td>...</td>\n",
       "      <td>...</td>\n",
       "      <td>...</td>\n",
       "      <td>...</td>\n",
       "      <td>...</td>\n",
       "      <td>...</td>\n",
       "      <td>...</td>\n",
       "      <td>...</td>\n",
       "      <td>...</td>\n",
       "    </tr>\n",
       "    <tr>\n",
       "      <th>51404</th>\n",
       "      <td>2712944</td>\n",
       "      <td>137605000</td>\n",
       "      <td>2372bc18ca27f0dc</td>\n",
       "      <td>48:39.6</td>\n",
       "      <td>76 05 17 159 99 157626</td>\n",
       "      <td>00:00.0</td>\n",
       "      <td>121.0102</td>\n",
       "      <td>14.53802</td>\n",
       "      <td>46.0</td>\n",
       "      <td>20.0</td>\n",
       "      <td>...</td>\n",
       "      <td>0</td>\n",
       "      <td>NaN</td>\n",
       "      <td>NaN</td>\n",
       "      <td>2</td>\n",
       "      <td>0</td>\n",
       "      <td>1</td>\n",
       "      <td>17:37</td>\n",
       "      <td>NaN</td>\n",
       "      <td>NaN</td>\n",
       "      <td>NaN</td>\n",
       "    </tr>\n",
       "    <tr>\n",
       "      <th>51416</th>\n",
       "      <td>2712964</td>\n",
       "      <td>137605000</td>\n",
       "      <td>2372bc18ca27f0dc</td>\n",
       "      <td>49:25.4</td>\n",
       "      <td>76 05 17 159 99 157638</td>\n",
       "      <td>00:00.0</td>\n",
       "      <td>121.0099</td>\n",
       "      <td>14.53743</td>\n",
       "      <td>46.9</td>\n",
       "      <td>20.0</td>\n",
       "      <td>...</td>\n",
       "      <td>0</td>\n",
       "      <td>NaN</td>\n",
       "      <td>NaN</td>\n",
       "      <td>2</td>\n",
       "      <td>0</td>\n",
       "      <td>0</td>\n",
       "      <td>10:41</td>\n",
       "      <td>NaN</td>\n",
       "      <td>NaN</td>\n",
       "      <td>NaN</td>\n",
       "    </tr>\n",
       "    <tr>\n",
       "      <th>51427</th>\n",
       "      <td>2712979</td>\n",
       "      <td>137605000</td>\n",
       "      <td>2372bc18ca27f0dc</td>\n",
       "      <td>49:34.7</td>\n",
       "      <td>76 05 17 159 99 157649</td>\n",
       "      <td>00:00.0</td>\n",
       "      <td>121.0095</td>\n",
       "      <td>14.53851</td>\n",
       "      <td>100.1</td>\n",
       "      <td>25.0</td>\n",
       "      <td>...</td>\n",
       "      <td>0</td>\n",
       "      <td>NaN</td>\n",
       "      <td>NaN</td>\n",
       "      <td>2</td>\n",
       "      <td>0</td>\n",
       "      <td>0</td>\n",
       "      <td>14:38</td>\n",
       "      <td>NaN</td>\n",
       "      <td>NaN</td>\n",
       "      <td>NaN</td>\n",
       "    </tr>\n",
       "    <tr>\n",
       "      <th>52179</th>\n",
       "      <td>2917708</td>\n",
       "      <td>137605000</td>\n",
       "      <td>6d40dba0d4351578</td>\n",
       "      <td>36:30.6</td>\n",
       "      <td>76 05 3 034 99 158410</td>\n",
       "      <td>00:00.0</td>\n",
       "      <td>120.9942</td>\n",
       "      <td>14.55674</td>\n",
       "      <td>45.1</td>\n",
       "      <td>15.0</td>\n",
       "      <td>...</td>\n",
       "      <td>0</td>\n",
       "      <td>NaN</td>\n",
       "      <td>NaN</td>\n",
       "      <td>2</td>\n",
       "      <td>0</td>\n",
       "      <td>0</td>\n",
       "      <td>10:55</td>\n",
       "      <td>NaN</td>\n",
       "      <td>NaN</td>\n",
       "      <td>NaN</td>\n",
       "    </tr>\n",
       "    <tr>\n",
       "      <th>52190</th>\n",
       "      <td>2917728</td>\n",
       "      <td>137605000</td>\n",
       "      <td>6d40dba0d4351578</td>\n",
       "      <td>36:46.0</td>\n",
       "      <td>76 05 3 034 99 158421</td>\n",
       "      <td>00:00.0</td>\n",
       "      <td>120.9941</td>\n",
       "      <td>14.55622</td>\n",
       "      <td>35.5</td>\n",
       "      <td>20.0</td>\n",
       "      <td>...</td>\n",
       "      <td>0</td>\n",
       "      <td>NaN</td>\n",
       "      <td>NaN</td>\n",
       "      <td>2</td>\n",
       "      <td>0</td>\n",
       "      <td>0</td>\n",
       "      <td>11:00</td>\n",
       "      <td>NaN</td>\n",
       "      <td>NaN</td>\n",
       "      <td>NaN</td>\n",
       "    </tr>\n",
       "    <tr>\n",
       "      <th>52454</th>\n",
       "      <td>2851889</td>\n",
       "      <td>137605000</td>\n",
       "      <td>15fa6336f1f469b9</td>\n",
       "      <td>58:38.4</td>\n",
       "      <td>76 05 3 035 99 158685</td>\n",
       "      <td>00:00.0</td>\n",
       "      <td>120.9944</td>\n",
       "      <td>14.55524</td>\n",
       "      <td>36.3</td>\n",
       "      <td>20.0</td>\n",
       "      <td>...</td>\n",
       "      <td>0</td>\n",
       "      <td>NaN</td>\n",
       "      <td>NaN</td>\n",
       "      <td>2</td>\n",
       "      <td>0</td>\n",
       "      <td>0</td>\n",
       "      <td>18:15</td>\n",
       "      <td>NaN</td>\n",
       "      <td>NaN</td>\n",
       "      <td>NaN</td>\n",
       "    </tr>\n",
       "    <tr>\n",
       "      <th>52780</th>\n",
       "      <td>2712988</td>\n",
       "      <td>137605000</td>\n",
       "      <td>2372bc18ca27f0dc</td>\n",
       "      <td>50:02.0</td>\n",
       "      <td>76 05 17 159 99 159011</td>\n",
       "      <td>00:00.0</td>\n",
       "      <td>121.0092</td>\n",
       "      <td>14.53781</td>\n",
       "      <td>38.6</td>\n",
       "      <td>25.0</td>\n",
       "      <td>...</td>\n",
       "      <td>1</td>\n",
       "      <td>4.0</td>\n",
       "      <td>NaN</td>\n",
       "      <td>2</td>\n",
       "      <td>0</td>\n",
       "      <td>0</td>\n",
       "      <td>12:01</td>\n",
       "      <td>NaN</td>\n",
       "      <td>NaN</td>\n",
       "      <td>NaN</td>\n",
       "    </tr>\n",
       "    <tr>\n",
       "      <th>52935</th>\n",
       "      <td>3648786</td>\n",
       "      <td>137605000</td>\n",
       "      <td>572c634ca8f13099</td>\n",
       "      <td>32:38.8</td>\n",
       "      <td>76 05 10 082 99 159323</td>\n",
       "      <td>00:00.0</td>\n",
       "      <td>120.9956</td>\n",
       "      <td>14.53950</td>\n",
       "      <td>75.1</td>\n",
       "      <td>20.0</td>\n",
       "      <td>...</td>\n",
       "      <td>0</td>\n",
       "      <td>NaN</td>\n",
       "      <td>NaN</td>\n",
       "      <td>2</td>\n",
       "      <td>0</td>\n",
       "      <td>0</td>\n",
       "      <td>14:29</td>\n",
       "      <td>NaN</td>\n",
       "      <td>NaN</td>\n",
       "      <td>NaN</td>\n",
       "    </tr>\n",
       "    <tr>\n",
       "      <th>53236</th>\n",
       "      <td>2802984</td>\n",
       "      <td>137605000</td>\n",
       "      <td>ce1495bc29010a89</td>\n",
       "      <td>07:24.6</td>\n",
       "      <td>76 05 99 042 99 160652</td>\n",
       "      <td>00:00.0</td>\n",
       "      <td>120.9977</td>\n",
       "      <td>14.55754</td>\n",
       "      <td>41.0</td>\n",
       "      <td>20.0</td>\n",
       "      <td>...</td>\n",
       "      <td>0</td>\n",
       "      <td>NaN</td>\n",
       "      <td>NaN</td>\n",
       "      <td>2</td>\n",
       "      <td>0</td>\n",
       "      <td>0</td>\n",
       "      <td>13:31</td>\n",
       "      <td>NaN</td>\n",
       "      <td>NaN</td>\n",
       "      <td>NaN</td>\n",
       "    </tr>\n",
       "    <tr>\n",
       "      <th>53255</th>\n",
       "      <td>2989376</td>\n",
       "      <td>137605000</td>\n",
       "      <td>ce1495bc29010a89</td>\n",
       "      <td>38:53.4</td>\n",
       "      <td>76 05 6 042 99 160696</td>\n",
       "      <td>00:00.0</td>\n",
       "      <td>120.9981</td>\n",
       "      <td>14.56075</td>\n",
       "      <td>31.3</td>\n",
       "      <td>25.0</td>\n",
       "      <td>...</td>\n",
       "      <td>0</td>\n",
       "      <td>NaN</td>\n",
       "      <td>NaN</td>\n",
       "      <td>2</td>\n",
       "      <td>0</td>\n",
       "      <td>1</td>\n",
       "      <td>10:56</td>\n",
       "      <td>NaN</td>\n",
       "      <td>NaN</td>\n",
       "      <td>NaN</td>\n",
       "    </tr>\n",
       "    <tr>\n",
       "      <th>53256</th>\n",
       "      <td>2989377</td>\n",
       "      <td>137605000</td>\n",
       "      <td>ce1495bc29010a89</td>\n",
       "      <td>38:53.9</td>\n",
       "      <td>76 05 6 042 99 160697</td>\n",
       "      <td>00:00.0</td>\n",
       "      <td>120.9981</td>\n",
       "      <td>14.56076</td>\n",
       "      <td>29.8</td>\n",
       "      <td>25.0</td>\n",
       "      <td>...</td>\n",
       "      <td>0</td>\n",
       "      <td>NaN</td>\n",
       "      <td>NaN</td>\n",
       "      <td>2</td>\n",
       "      <td>0</td>\n",
       "      <td>1</td>\n",
       "      <td>11:04</td>\n",
       "      <td>NaN</td>\n",
       "      <td>NaN</td>\n",
       "      <td>NaN</td>\n",
       "    </tr>\n",
       "    <tr>\n",
       "      <th>53257</th>\n",
       "      <td>2989378</td>\n",
       "      <td>137605000</td>\n",
       "      <td>ce1495bc29010a89</td>\n",
       "      <td>38:54.5</td>\n",
       "      <td>76 05 6 042 99 160698</td>\n",
       "      <td>00:00.0</td>\n",
       "      <td>120.9982</td>\n",
       "      <td>14.56064</td>\n",
       "      <td>24.8</td>\n",
       "      <td>20.0</td>\n",
       "      <td>...</td>\n",
       "      <td>0</td>\n",
       "      <td>NaN</td>\n",
       "      <td>NaN</td>\n",
       "      <td>2</td>\n",
       "      <td>0</td>\n",
       "      <td>1</td>\n",
       "      <td>11:19</td>\n",
       "      <td>NaN</td>\n",
       "      <td>NaN</td>\n",
       "      <td>NaN</td>\n",
       "    </tr>\n",
       "    <tr>\n",
       "      <th>53303</th>\n",
       "      <td>3034415</td>\n",
       "      <td>137605000</td>\n",
       "      <td>ce1495bc29010a89</td>\n",
       "      <td>51:09.4</td>\n",
       "      <td>76 05 6 042 99 160744</td>\n",
       "      <td>00:00.0</td>\n",
       "      <td>120.9980</td>\n",
       "      <td>14.56094</td>\n",
       "      <td>57.2</td>\n",
       "      <td>20.0</td>\n",
       "      <td>...</td>\n",
       "      <td>0</td>\n",
       "      <td>NaN</td>\n",
       "      <td>NaN</td>\n",
       "      <td>2</td>\n",
       "      <td>0</td>\n",
       "      <td>1</td>\n",
       "      <td>14:42</td>\n",
       "      <td>NaN</td>\n",
       "      <td>NaN</td>\n",
       "      <td>NaN</td>\n",
       "    </tr>\n",
       "    <tr>\n",
       "      <th>53304</th>\n",
       "      <td>3034416</td>\n",
       "      <td>137605000</td>\n",
       "      <td>ce1495bc29010a89</td>\n",
       "      <td>51:09.9</td>\n",
       "      <td>76 05 6 042 99 160745</td>\n",
       "      <td>00:00.0</td>\n",
       "      <td>120.9979</td>\n",
       "      <td>14.56076</td>\n",
       "      <td>53.3</td>\n",
       "      <td>20.0</td>\n",
       "      <td>...</td>\n",
       "      <td>0</td>\n",
       "      <td>NaN</td>\n",
       "      <td>NaN</td>\n",
       "      <td>2</td>\n",
       "      <td>0</td>\n",
       "      <td>1</td>\n",
       "      <td>14:55</td>\n",
       "      <td>NaN</td>\n",
       "      <td>NaN</td>\n",
       "      <td>NaN</td>\n",
       "    </tr>\n",
       "    <tr>\n",
       "      <th>53329</th>\n",
       "      <td>3034468</td>\n",
       "      <td>137605000</td>\n",
       "      <td>ce1495bc29010a89</td>\n",
       "      <td>10:07.9</td>\n",
       "      <td>76 05 6 042 99 160770</td>\n",
       "      <td>00:00.0</td>\n",
       "      <td>120.9973</td>\n",
       "      <td>14.56083</td>\n",
       "      <td>0.1</td>\n",
       "      <td>20.0</td>\n",
       "      <td>...</td>\n",
       "      <td>0</td>\n",
       "      <td>NaN</td>\n",
       "      <td>NaN</td>\n",
       "      <td>2</td>\n",
       "      <td>0</td>\n",
       "      <td>0</td>\n",
       "      <td>10:20</td>\n",
       "      <td>NaN</td>\n",
       "      <td>NaN</td>\n",
       "      <td>NaN</td>\n",
       "    </tr>\n",
       "    <tr>\n",
       "      <th>53386</th>\n",
       "      <td>2802969</td>\n",
       "      <td>137605000</td>\n",
       "      <td>ce1495bc29010a89</td>\n",
       "      <td>07:08.4</td>\n",
       "      <td>76 05 6 044 99 160877</td>\n",
       "      <td>00:00.0</td>\n",
       "      <td>120.9977</td>\n",
       "      <td>14.55798</td>\n",
       "      <td>51.3</td>\n",
       "      <td>20.0</td>\n",
       "      <td>...</td>\n",
       "      <td>0</td>\n",
       "      <td>NaN</td>\n",
       "      <td>NaN</td>\n",
       "      <td>2</td>\n",
       "      <td>0</td>\n",
       "      <td>0</td>\n",
       "      <td>11:38</td>\n",
       "      <td>NaN</td>\n",
       "      <td>NaN</td>\n",
       "      <td>NaN</td>\n",
       "    </tr>\n",
       "    <tr>\n",
       "      <th>53641</th>\n",
       "      <td>2867616</td>\n",
       "      <td>137605000</td>\n",
       "      <td>58b7b0d04ccc3606</td>\n",
       "      <td>56:23.9</td>\n",
       "      <td>76 05 5 038 99 161744</td>\n",
       "      <td>00:00.0</td>\n",
       "      <td>120.9953</td>\n",
       "      <td>14.55052</td>\n",
       "      <td>71.0</td>\n",
       "      <td>20.0</td>\n",
       "      <td>...</td>\n",
       "      <td>0</td>\n",
       "      <td>NaN</td>\n",
       "      <td>NaN</td>\n",
       "      <td>2</td>\n",
       "      <td>0</td>\n",
       "      <td>0</td>\n",
       "      <td>17:53</td>\n",
       "      <td>NaN</td>\n",
       "      <td>NaN</td>\n",
       "      <td>NaN</td>\n",
       "    </tr>\n",
       "    <tr>\n",
       "      <th>53786</th>\n",
       "      <td>3518633</td>\n",
       "      <td>137605000</td>\n",
       "      <td>4f6cec1150edcd8b</td>\n",
       "      <td>15:19.9</td>\n",
       "      <td>76 05 16 154 99 163111</td>\n",
       "      <td>00:00.0</td>\n",
       "      <td>121.0089</td>\n",
       "      <td>14.52977</td>\n",
       "      <td>23.9</td>\n",
       "      <td>20.0</td>\n",
       "      <td>...</td>\n",
       "      <td>0</td>\n",
       "      <td>NaN</td>\n",
       "      <td>NaN</td>\n",
       "      <td>2</td>\n",
       "      <td>0</td>\n",
       "      <td>0</td>\n",
       "      <td>11:57</td>\n",
       "      <td>NaN</td>\n",
       "      <td>NaN</td>\n",
       "      <td>NaN</td>\n",
       "    </tr>\n",
       "    <tr>\n",
       "      <th>53794</th>\n",
       "      <td>3424118</td>\n",
       "      <td>137605000</td>\n",
       "      <td>4f6cec1150edcd8b</td>\n",
       "      <td>06:40.6</td>\n",
       "      <td>76 05 16 154 99 163119</td>\n",
       "      <td>00:00.0</td>\n",
       "      <td>121.0048</td>\n",
       "      <td>14.53520</td>\n",
       "      <td>16.6</td>\n",
       "      <td>25.0</td>\n",
       "      <td>...</td>\n",
       "      <td>0</td>\n",
       "      <td>NaN</td>\n",
       "      <td>NaN</td>\n",
       "      <td>2</td>\n",
       "      <td>0</td>\n",
       "      <td>0</td>\n",
       "      <td>12:18</td>\n",
       "      <td>NaN</td>\n",
       "      <td>NaN</td>\n",
       "      <td>NaN</td>\n",
       "    </tr>\n",
       "    <tr>\n",
       "      <th>54378</th>\n",
       "      <td>3175980</td>\n",
       "      <td>137605000</td>\n",
       "      <td>d68677baa4aa6402</td>\n",
       "      <td>45:28.0</td>\n",
       "      <td>76 05 9 086 99 164362</td>\n",
       "      <td>00:00.0</td>\n",
       "      <td>120.9979</td>\n",
       "      <td>14.54260</td>\n",
       "      <td>50.1</td>\n",
       "      <td>20.0</td>\n",
       "      <td>...</td>\n",
       "      <td>0</td>\n",
       "      <td>NaN</td>\n",
       "      <td>NaN</td>\n",
       "      <td>2</td>\n",
       "      <td>0</td>\n",
       "      <td>0</td>\n",
       "      <td>10:45</td>\n",
       "      <td>NaN</td>\n",
       "      <td>NaN</td>\n",
       "      <td>NaN</td>\n",
       "    </tr>\n",
       "    <tr>\n",
       "      <th>57874</th>\n",
       "      <td>3646037</td>\n",
       "      <td>137605000</td>\n",
       "      <td>78e6594d3d72ad06</td>\n",
       "      <td>07:10.5</td>\n",
       "      <td>76 05 10 072 99 169228</td>\n",
       "      <td>00:00.0</td>\n",
       "      <td>120.9968</td>\n",
       "      <td>14.54065</td>\n",
       "      <td>68.1</td>\n",
       "      <td>20.0</td>\n",
       "      <td>...</td>\n",
       "      <td>0</td>\n",
       "      <td>NaN</td>\n",
       "      <td>NaN</td>\n",
       "      <td>2</td>\n",
       "      <td>0</td>\n",
       "      <td>0</td>\n",
       "      <td>2:50</td>\n",
       "      <td>NaN</td>\n",
       "      <td>NaN</td>\n",
       "      <td>NaN</td>\n",
       "    </tr>\n",
       "    <tr>\n",
       "      <th>57983</th>\n",
       "      <td>3648878</td>\n",
       "      <td>137605000</td>\n",
       "      <td>572c634ca8f13099</td>\n",
       "      <td>36:57.1</td>\n",
       "      <td>76 05 10 074 99 169351</td>\n",
       "      <td>00:00.0</td>\n",
       "      <td>120.9982</td>\n",
       "      <td>14.54034</td>\n",
       "      <td>-12.9</td>\n",
       "      <td>20.0</td>\n",
       "      <td>...</td>\n",
       "      <td>0</td>\n",
       "      <td>NaN</td>\n",
       "      <td>NaN</td>\n",
       "      <td>2</td>\n",
       "      <td>0</td>\n",
       "      <td>0</td>\n",
       "      <td>9:05</td>\n",
       "      <td>NaN</td>\n",
       "      <td>NaN</td>\n",
       "      <td>NaN</td>\n",
       "    </tr>\n",
       "    <tr>\n",
       "      <th>58001</th>\n",
       "      <td>3648899</td>\n",
       "      <td>137605000</td>\n",
       "      <td>572c634ca8f13099</td>\n",
       "      <td>41:16.8</td>\n",
       "      <td>76 05 10 074 99 169377</td>\n",
       "      <td>00:00.0</td>\n",
       "      <td>120.9977</td>\n",
       "      <td>14.53987</td>\n",
       "      <td>55.9</td>\n",
       "      <td>25.0</td>\n",
       "      <td>...</td>\n",
       "      <td>0</td>\n",
       "      <td>NaN</td>\n",
       "      <td>NaN</td>\n",
       "      <td>2</td>\n",
       "      <td>0</td>\n",
       "      <td>0</td>\n",
       "      <td>13:37</td>\n",
       "      <td>NaN</td>\n",
       "      <td>NaN</td>\n",
       "      <td>NaN</td>\n",
       "    </tr>\n",
       "    <tr>\n",
       "      <th>58004</th>\n",
       "      <td>3648902</td>\n",
       "      <td>137605000</td>\n",
       "      <td>572c634ca8f13099</td>\n",
       "      <td>41:18.3</td>\n",
       "      <td>76 05 10 074 99 169380</td>\n",
       "      <td>00:00.0</td>\n",
       "      <td>120.9978</td>\n",
       "      <td>14.53965</td>\n",
       "      <td>63.4</td>\n",
       "      <td>20.0</td>\n",
       "      <td>...</td>\n",
       "      <td>0</td>\n",
       "      <td>NaN</td>\n",
       "      <td>NaN</td>\n",
       "      <td>2</td>\n",
       "      <td>0</td>\n",
       "      <td>0</td>\n",
       "      <td>10:09</td>\n",
       "      <td>NaN</td>\n",
       "      <td>NaN</td>\n",
       "      <td>NaN</td>\n",
       "    </tr>\n",
       "    <tr>\n",
       "      <th>58013</th>\n",
       "      <td>3646068</td>\n",
       "      <td>137605000</td>\n",
       "      <td>78e6594d3d72ad06</td>\n",
       "      <td>09:20.8</td>\n",
       "      <td>76 05 10 074 99 169408</td>\n",
       "      <td>00:00.0</td>\n",
       "      <td>120.9972</td>\n",
       "      <td>14.54218</td>\n",
       "      <td>8.3</td>\n",
       "      <td>25.0</td>\n",
       "      <td>...</td>\n",
       "      <td>0</td>\n",
       "      <td>NaN</td>\n",
       "      <td>NaN</td>\n",
       "      <td>2</td>\n",
       "      <td>0</td>\n",
       "      <td>0</td>\n",
       "      <td>7:46</td>\n",
       "      <td>NaN</td>\n",
       "      <td>NaN</td>\n",
       "      <td>NaN</td>\n",
       "    </tr>\n",
       "    <tr>\n",
       "      <th>58014</th>\n",
       "      <td>3646069</td>\n",
       "      <td>137605000</td>\n",
       "      <td>78e6594d3d72ad06</td>\n",
       "      <td>09:21.2</td>\n",
       "      <td>76 05 10 074 99 169409</td>\n",
       "      <td>00:00.0</td>\n",
       "      <td>120.9971</td>\n",
       "      <td>14.54223</td>\n",
       "      <td>24.4</td>\n",
       "      <td>25.0</td>\n",
       "      <td>...</td>\n",
       "      <td>0</td>\n",
       "      <td>NaN</td>\n",
       "      <td>NaN</td>\n",
       "      <td>2</td>\n",
       "      <td>0</td>\n",
       "      <td>0</td>\n",
       "      <td>7:47</td>\n",
       "      <td>NaN</td>\n",
       "      <td>NaN</td>\n",
       "      <td>NaN</td>\n",
       "    </tr>\n",
       "    <tr>\n",
       "      <th>58015</th>\n",
       "      <td>3646070</td>\n",
       "      <td>137605000</td>\n",
       "      <td>78e6594d3d72ad06</td>\n",
       "      <td>09:21.6</td>\n",
       "      <td>76 05 10 074 99 169410</td>\n",
       "      <td>00:00.0</td>\n",
       "      <td>120.9972</td>\n",
       "      <td>14.54233</td>\n",
       "      <td>27.0</td>\n",
       "      <td>20.0</td>\n",
       "      <td>...</td>\n",
       "      <td>0</td>\n",
       "      <td>NaN</td>\n",
       "      <td>NaN</td>\n",
       "      <td>2</td>\n",
       "      <td>0</td>\n",
       "      <td>0</td>\n",
       "      <td>7:47</td>\n",
       "      <td>NaN</td>\n",
       "      <td>NaN</td>\n",
       "      <td>NaN</td>\n",
       "    </tr>\n",
       "    <tr>\n",
       "      <th>58227</th>\n",
       "      <td>3648919</td>\n",
       "      <td>137605000</td>\n",
       "      <td>572c634ca8f13099</td>\n",
       "      <td>41:27.6</td>\n",
       "      <td>76 05 10 075 99 169668</td>\n",
       "      <td>00:00.0</td>\n",
       "      <td>120.9973</td>\n",
       "      <td>14.53989</td>\n",
       "      <td>76.9</td>\n",
       "      <td>25.0</td>\n",
       "      <td>...</td>\n",
       "      <td>0</td>\n",
       "      <td>NaN</td>\n",
       "      <td>NaN</td>\n",
       "      <td>2</td>\n",
       "      <td>0</td>\n",
       "      <td>0</td>\n",
       "      <td>13:05</td>\n",
       "      <td>NaN</td>\n",
       "      <td>NaN</td>\n",
       "      <td>NaN</td>\n",
       "    </tr>\n",
       "    <tr>\n",
       "      <th>58361</th>\n",
       "      <td>3648846</td>\n",
       "      <td>137605000</td>\n",
       "      <td>572c634ca8f13099</td>\n",
       "      <td>36:20.0</td>\n",
       "      <td>76 05 10 084 99 169865</td>\n",
       "      <td>00:00.0</td>\n",
       "      <td>120.9971</td>\n",
       "      <td>14.54264</td>\n",
       "      <td>-20.0</td>\n",
       "      <td>15.0</td>\n",
       "      <td>...</td>\n",
       "      <td>0</td>\n",
       "      <td>NaN</td>\n",
       "      <td>NaN</td>\n",
       "      <td>2</td>\n",
       "      <td>0</td>\n",
       "      <td>0</td>\n",
       "      <td>10:48</td>\n",
       "      <td>NaN</td>\n",
       "      <td>NaN</td>\n",
       "      <td>NaN</td>\n",
       "    </tr>\n",
       "    <tr>\n",
       "      <th>58692</th>\n",
       "      <td>3483410</td>\n",
       "      <td>137605000</td>\n",
       "      <td>164835c5ea971353</td>\n",
       "      <td>59:46.2</td>\n",
       "      <td>76 05 19 184 2 170215</td>\n",
       "      <td>00:00.0</td>\n",
       "      <td>121.0086</td>\n",
       "      <td>14.53001</td>\n",
       "      <td>52.9</td>\n",
       "      <td>20.0</td>\n",
       "      <td>...</td>\n",
       "      <td>0</td>\n",
       "      <td>NaN</td>\n",
       "      <td>NaN</td>\n",
       "      <td>2</td>\n",
       "      <td>0</td>\n",
       "      <td>0</td>\n",
       "      <td>11:56</td>\n",
       "      <td>NaN</td>\n",
       "      <td>NaN</td>\n",
       "      <td>NaN</td>\n",
       "    </tr>\n",
       "  </tbody>\n",
       "</table>\n",
       "<p>257 rows × 489 columns</p>\n",
       "</div>"
      ],
      "text/plain": [
       "        mainid  mainworkgroup  maindeviceserial maintransferdate  \\\n",
       "516    2712335      137605000  b077b6800e8e7c8b          40:57.3   \n",
       "1289   1591428      137605000  3be01109b8455128          21:13.5   \n",
       "1890   1494386      137605000  285a228355aed69b          27:16.2   \n",
       "2388     80338      137605000  d1b4dbd3f5b2d9d1          50:00.1   \n",
       "2578   3649041      137605000  572c634ca8f13099          45:25.5   \n",
       "2591   1074568      137605000  a789239fb67f38f0          13:14.6   \n",
       "2602   1074561      137605000  a789239fb67f38f0          13:08.1   \n",
       "2604   1074564      137605000  a789239fb67f38f0          13:11.3   \n",
       "2671   2603395      137605000  78e6594d3d72ad06          35:19.5   \n",
       "2717   1385197      137605000      839316aadd3c          37:10.8   \n",
       "2732   1008102      137605000      839316aadd3c          05:35.6   \n",
       "2793   2715225      137605000  d5a7310e30ca9a1c          22:21.6   \n",
       "2951    936116      137605000      839316aadd3c          09:57.3   \n",
       "3473   2914509      137605000   18a11ff27e6faa9          47:27.6   \n",
       "3540    667396      137605000  55fb967c4cdc7265          15:22.8   \n",
       "3572    674405      137605000  55fb967c4cdc7265          18:34.4   \n",
       "3598    489410      137605000  2a2d79891fed654e          56:00.4   \n",
       "3635   1673663      137605000  eef7f7c2f76e4d15          34:58.4   \n",
       "3728   1352605      137605000      1c18e221050a          30:31.8   \n",
       "4475   1975881      137605000  6d40dba0d4351578          24:24.4   \n",
       "4866   1281127      137605000  dbe13becdfb88560          20:29.8   \n",
       "4976   1086704      137605000  4c1ec7abc885030d          20:41.6   \n",
       "5339   1086709      137605000  4c1ec7abc885030d          21:04.3   \n",
       "5893    204943      137605000  bab894649127e3ad          57:31.4   \n",
       "5941    204961      137605000  bab894649127e3ad          58:00.0   \n",
       "5953    204990      137605000  bab894649127e3ad          58:39.5   \n",
       "6144    116772      137605000  424e83212300b1ee          48:42.3   \n",
       "6463    254252      137605000     6b6779bd43fcd          37:43.1   \n",
       "6962    833772      137605000  2372bc18ca27f0dc          41:29.7   \n",
       "7043   1057124      137605000  2d44ab8970b3ca02          11:32.0   \n",
       "...        ...            ...               ...              ...   \n",
       "51404  2712944      137605000  2372bc18ca27f0dc          48:39.6   \n",
       "51416  2712964      137605000  2372bc18ca27f0dc          49:25.4   \n",
       "51427  2712979      137605000  2372bc18ca27f0dc          49:34.7   \n",
       "52179  2917708      137605000  6d40dba0d4351578          36:30.6   \n",
       "52190  2917728      137605000  6d40dba0d4351578          36:46.0   \n",
       "52454  2851889      137605000  15fa6336f1f469b9          58:38.4   \n",
       "52780  2712988      137605000  2372bc18ca27f0dc          50:02.0   \n",
       "52935  3648786      137605000  572c634ca8f13099          32:38.8   \n",
       "53236  2802984      137605000  ce1495bc29010a89          07:24.6   \n",
       "53255  2989376      137605000  ce1495bc29010a89          38:53.4   \n",
       "53256  2989377      137605000  ce1495bc29010a89          38:53.9   \n",
       "53257  2989378      137605000  ce1495bc29010a89          38:54.5   \n",
       "53303  3034415      137605000  ce1495bc29010a89          51:09.4   \n",
       "53304  3034416      137605000  ce1495bc29010a89          51:09.9   \n",
       "53329  3034468      137605000  ce1495bc29010a89          10:07.9   \n",
       "53386  2802969      137605000  ce1495bc29010a89          07:08.4   \n",
       "53641  2867616      137605000  58b7b0d04ccc3606          56:23.9   \n",
       "53786  3518633      137605000  4f6cec1150edcd8b          15:19.9   \n",
       "53794  3424118      137605000  4f6cec1150edcd8b          06:40.6   \n",
       "54378  3175980      137605000  d68677baa4aa6402          45:28.0   \n",
       "57874  3646037      137605000  78e6594d3d72ad06          07:10.5   \n",
       "57983  3648878      137605000  572c634ca8f13099          36:57.1   \n",
       "58001  3648899      137605000  572c634ca8f13099          41:16.8   \n",
       "58004  3648902      137605000  572c634ca8f13099          41:18.3   \n",
       "58013  3646068      137605000  78e6594d3d72ad06          09:20.8   \n",
       "58014  3646069      137605000  78e6594d3d72ad06          09:21.2   \n",
       "58015  3646070      137605000  78e6594d3d72ad06          09:21.6   \n",
       "58227  3648919      137605000  572c634ca8f13099          41:27.6   \n",
       "58361  3648846      137605000  572c634ca8f13099          36:20.0   \n",
       "58692  3483410      137605000  164835c5ea971353          59:46.2   \n",
       "\n",
       "           androiddescription geopoint_hh_ind  geopoint_hhlongitude  \\\n",
       "516       76 05 2 021 99 3227         00:00.0              120.9919   \n",
       "1289     76 05 6 046 99 10041         00:00.0              120.9984   \n",
       "1890     76 05 8 063 99 14186         00:00.0              121.0027   \n",
       "2388     76 05 9 072 99 16519         00:00.0              120.9965   \n",
       "2578    76 05 10 075 99 18793         00:00.0              120.9972   \n",
       "2591    76 05 10 077 99 19066         00:00.0              120.9970   \n",
       "2602    76 05 10 077 99 19136         00:00.0              120.9972   \n",
       "2604    76 05 10 077 99 19152         00:00.0              120.9971   \n",
       "2671    76 05 10 083 99 20062         00:00.0              120.9944   \n",
       "2717    76 05 11 094 99 20536         00:00.0              120.9995   \n",
       "2732    76 05 11 094 99 20595         00:00.0              121.0009   \n",
       "2793    76 05 11 096 99 20933         00:00.0              121.0008   \n",
       "2951    76 05 11 095 99 22098         00:00.0              120.9997   \n",
       "3473    76 05 12 124 99 24922         00:00.0              121.0052   \n",
       "3540    76 05 12 125 99 25179         00:00.0              121.0045   \n",
       "3572    76 05 12 125 99 25258         00:00.0              121.0047   \n",
       "3598    76 05 12 125 99 25340         00:00.0              121.0051   \n",
       "3635     76 05 13 127 1 25594         00:00.0              121.0062   \n",
       "3728    76 05 13 128 99 26102         00:00.0              121.0075   \n",
       "4475    76 05 15 136 99 32057         00:00.0              121.0070   \n",
       "4866    76 05 16 146 99 35153         00:00.0              121.0018   \n",
       "4976    76 05 16 149 99 36073         00:00.0              121.0037   \n",
       "5339    76 05 16 149 99 37501         00:00.0              121.0039   \n",
       "5893    76 05 17 169 99 40555         00:00.0              121.0126   \n",
       "5941    76 05 17 169 99 40759         00:00.0              121.0116   \n",
       "5953    76 05 17 169 99 40816         00:00.0              121.0115   \n",
       "6144    76 05 17 172 99 41862         00:00.0              121.0126   \n",
       "6463    76 05 18 163 99 43611         00:00.0              121.0074   \n",
       "6962    76 05 18 177 99 46005         00:00.0              121.0104   \n",
       "7043    76 05 18 177 99 46371         00:00.0              121.0109   \n",
       "...                       ...             ...                   ...   \n",
       "51404  76 05 17 159 99 157626         00:00.0              121.0102   \n",
       "51416  76 05 17 159 99 157638         00:00.0              121.0099   \n",
       "51427  76 05 17 159 99 157649         00:00.0              121.0095   \n",
       "52179   76 05 3 034 99 158410         00:00.0              120.9942   \n",
       "52190   76 05 3 034 99 158421         00:00.0              120.9941   \n",
       "52454   76 05 3 035 99 158685         00:00.0              120.9944   \n",
       "52780  76 05 17 159 99 159011         00:00.0              121.0092   \n",
       "52935  76 05 10 082 99 159323         00:00.0              120.9956   \n",
       "53236  76 05 99 042 99 160652         00:00.0              120.9977   \n",
       "53255   76 05 6 042 99 160696         00:00.0              120.9981   \n",
       "53256   76 05 6 042 99 160697         00:00.0              120.9981   \n",
       "53257   76 05 6 042 99 160698         00:00.0              120.9982   \n",
       "53303   76 05 6 042 99 160744         00:00.0              120.9980   \n",
       "53304   76 05 6 042 99 160745         00:00.0              120.9979   \n",
       "53329   76 05 6 042 99 160770         00:00.0              120.9973   \n",
       "53386   76 05 6 044 99 160877         00:00.0              120.9977   \n",
       "53641   76 05 5 038 99 161744         00:00.0              120.9953   \n",
       "53786  76 05 16 154 99 163111         00:00.0              121.0089   \n",
       "53794  76 05 16 154 99 163119         00:00.0              121.0048   \n",
       "54378   76 05 9 086 99 164362         00:00.0              120.9979   \n",
       "57874  76 05 10 072 99 169228         00:00.0              120.9968   \n",
       "57983  76 05 10 074 99 169351         00:00.0              120.9982   \n",
       "58001  76 05 10 074 99 169377         00:00.0              120.9977   \n",
       "58004  76 05 10 074 99 169380         00:00.0              120.9978   \n",
       "58013  76 05 10 074 99 169408         00:00.0              120.9972   \n",
       "58014  76 05 10 074 99 169409         00:00.0              120.9971   \n",
       "58015  76 05 10 074 99 169410         00:00.0              120.9972   \n",
       "58227  76 05 10 075 99 169668         00:00.0              120.9973   \n",
       "58361  76 05 10 084 99 169865         00:00.0              120.9971   \n",
       "58692   76 05 19 184 2 170215         00:00.0              121.0086   \n",
       "\n",
       "       geopoint_hhlatitude  geopoint_hhaltitude  geopoint_hhaccuracy  \\\n",
       "516               14.55432                 83.7                 20.0   \n",
       "1289              14.55515                 35.4                 25.0   \n",
       "1890              14.55035                 -1.7                 15.0   \n",
       "2388              14.54418                 91.0                 10.0   \n",
       "2578              14.53783                121.7                 25.0   \n",
       "2591              14.53591                -20.0                 20.0   \n",
       "2602              14.53599                -19.7                 20.0   \n",
       "2604              14.53608                -14.0                 20.0   \n",
       "2671              14.54377                109.7                 15.0   \n",
       "2717              14.54612                 26.3                 20.0   \n",
       "2732              14.54391                125.7                 15.0   \n",
       "2793              14.54406                 61.7                 20.0   \n",
       "2951              14.54772                 35.7                 20.0   \n",
       "3473              14.54498                 35.3                 20.0   \n",
       "3540              14.54497                 60.1                 20.0   \n",
       "3572              14.54528                 51.0                 15.0   \n",
       "3598              14.54494                 60.8                 10.0   \n",
       "3635              14.54920                 65.6                 25.0   \n",
       "3728              14.54904                 33.4                 25.0   \n",
       "4475              14.54172                 54.8                 20.0   \n",
       "4866              14.53611                 66.5                 20.0   \n",
       "4976              14.53598                 31.6                 15.0   \n",
       "5339              14.53594                 42.4                 15.0   \n",
       "5893              14.53771                 44.9                 20.0   \n",
       "5941              14.53799                 64.4                 20.0   \n",
       "5953              14.53817                 72.3                 20.0   \n",
       "6144              14.53415                 84.7                 20.0   \n",
       "6463              14.53395                 93.1                 15.0   \n",
       "6962              14.53127                 63.2                 20.0   \n",
       "7043              14.53063                 18.5                 15.0   \n",
       "...                    ...                  ...                  ...   \n",
       "51404             14.53802                 46.0                 20.0   \n",
       "51416             14.53743                 46.9                 20.0   \n",
       "51427             14.53851                100.1                 25.0   \n",
       "52179             14.55674                 45.1                 15.0   \n",
       "52190             14.55622                 35.5                 20.0   \n",
       "52454             14.55524                 36.3                 20.0   \n",
       "52780             14.53781                 38.6                 25.0   \n",
       "52935             14.53950                 75.1                 20.0   \n",
       "53236             14.55754                 41.0                 20.0   \n",
       "53255             14.56075                 31.3                 25.0   \n",
       "53256             14.56076                 29.8                 25.0   \n",
       "53257             14.56064                 24.8                 20.0   \n",
       "53303             14.56094                 57.2                 20.0   \n",
       "53304             14.56076                 53.3                 20.0   \n",
       "53329             14.56083                  0.1                 20.0   \n",
       "53386             14.55798                 51.3                 20.0   \n",
       "53641             14.55052                 71.0                 20.0   \n",
       "53786             14.52977                 23.9                 20.0   \n",
       "53794             14.53520                 16.6                 25.0   \n",
       "54378             14.54260                 50.1                 20.0   \n",
       "57874             14.54065                 68.1                 20.0   \n",
       "57983             14.54034                -12.9                 20.0   \n",
       "58001             14.53987                 55.9                 25.0   \n",
       "58004             14.53965                 63.4                 20.0   \n",
       "58013             14.54218                  8.3                 25.0   \n",
       "58014             14.54223                 24.4                 25.0   \n",
       "58015             14.54233                 27.0                 20.0   \n",
       "58227             14.53989                 76.9                 25.0   \n",
       "58361             14.54264                -20.0                 15.0   \n",
       "58692             14.53001                 52.9                 20.0   \n",
       "\n",
       "          ...       prog_phiheal_spon_nmem  prog_phiheal_spon_impl  \\\n",
       "516       ...                            0                     NaN   \n",
       "1289      ...                            0                     NaN   \n",
       "1890      ...                            0                     NaN   \n",
       "2388      ...                            0                     NaN   \n",
       "2578      ...                            0                     NaN   \n",
       "2591      ...                            0                     NaN   \n",
       "2602      ...                            0                     NaN   \n",
       "2604      ...                            0                     NaN   \n",
       "2671      ...                            0                     NaN   \n",
       "2717      ...                            0                     NaN   \n",
       "2732      ...                            0                     NaN   \n",
       "2793      ...                            0                     NaN   \n",
       "2951      ...                            0                     NaN   \n",
       "3473      ...                            1                     1.0   \n",
       "3540      ...                            0                     NaN   \n",
       "3572      ...                            0                     NaN   \n",
       "3598      ...                            0                     NaN   \n",
       "3635      ...                            0                     NaN   \n",
       "3728      ...                            0                     NaN   \n",
       "4475      ...                            0                     NaN   \n",
       "4866      ...                            0                     NaN   \n",
       "4976      ...                            0                     NaN   \n",
       "5339      ...                            0                     NaN   \n",
       "5893      ...                            0                     NaN   \n",
       "5941      ...                            0                     NaN   \n",
       "5953      ...                            0                     NaN   \n",
       "6144      ...                            0                     NaN   \n",
       "6463      ...                            0                     NaN   \n",
       "6962      ...                            0                     NaN   \n",
       "7043      ...                            1                     3.0   \n",
       "...       ...                          ...                     ...   \n",
       "51404     ...                            0                     NaN   \n",
       "51416     ...                            0                     NaN   \n",
       "51427     ...                            0                     NaN   \n",
       "52179     ...                            0                     NaN   \n",
       "52190     ...                            0                     NaN   \n",
       "52454     ...                            0                     NaN   \n",
       "52780     ...                            1                     4.0   \n",
       "52935     ...                            0                     NaN   \n",
       "53236     ...                            0                     NaN   \n",
       "53255     ...                            0                     NaN   \n",
       "53256     ...                            0                     NaN   \n",
       "53257     ...                            0                     NaN   \n",
       "53303     ...                            0                     NaN   \n",
       "53304     ...                            0                     NaN   \n",
       "53329     ...                            0                     NaN   \n",
       "53386     ...                            0                     NaN   \n",
       "53641     ...                            0                     NaN   \n",
       "53786     ...                            0                     NaN   \n",
       "53794     ...                            0                     NaN   \n",
       "54378     ...                            0                     NaN   \n",
       "57874     ...                            0                     NaN   \n",
       "57983     ...                            0                     NaN   \n",
       "58001     ...                            0                     NaN   \n",
       "58004     ...                            0                     NaN   \n",
       "58013     ...                            0                     NaN   \n",
       "58014     ...                            0                     NaN   \n",
       "58015     ...                            0                     NaN   \n",
       "58227     ...                            0                     NaN   \n",
       "58361     ...                            0                     NaN   \n",
       "58692     ...                            0                     NaN   \n",
       "\n",
       "       prog_phiheal_spon_impl_o  prog_phiheal_life  prog_phiheal_life_nmem  \\\n",
       "516                         NaN                  2                       0   \n",
       "1289                        NaN                  2                       0   \n",
       "1890                        NaN                  2                       0   \n",
       "2388                        NaN                  2                       0   \n",
       "2578                        NaN                  2                       0   \n",
       "2591                        NaN                  2                       0   \n",
       "2602                        NaN                  2                       0   \n",
       "2604                        NaN                  2                       0   \n",
       "2671                        NaN                  2                       0   \n",
       "2717                        NaN                  2                       0   \n",
       "2732                        NaN                  1                       1   \n",
       "2793                        NaN                  2                       0   \n",
       "2951                        NaN                  2                       0   \n",
       "3473                        NaN                  2                       0   \n",
       "3540                        NaN                  2                       0   \n",
       "3572                        NaN                  2                       0   \n",
       "3598                        NaN                  2                       0   \n",
       "3635                        NaN                  2                       0   \n",
       "3728                        NaN                  2                       0   \n",
       "4475                        NaN                  2                       0   \n",
       "4866                        NaN                  2                       0   \n",
       "4976                        NaN                  2                       0   \n",
       "5339                        NaN                  2                       0   \n",
       "5893                        NaN                  2                       0   \n",
       "5941                        NaN                  2                       0   \n",
       "5953                        NaN                  2                       0   \n",
       "6144                        NaN                  2                       0   \n",
       "6463                        NaN                  2                       0   \n",
       "6962                        NaN                  2                       0   \n",
       "7043                        NaN                  2                       0   \n",
       "...                         ...                ...                     ...   \n",
       "51404                       NaN                  2                       0   \n",
       "51416                       NaN                  2                       0   \n",
       "51427                       NaN                  2                       0   \n",
       "52179                       NaN                  2                       0   \n",
       "52190                       NaN                  2                       0   \n",
       "52454                       NaN                  2                       0   \n",
       "52780                       NaN                  2                       0   \n",
       "52935                       NaN                  2                       0   \n",
       "53236                       NaN                  2                       0   \n",
       "53255                       NaN                  2                       0   \n",
       "53256                       NaN                  2                       0   \n",
       "53257                       NaN                  2                       0   \n",
       "53303                       NaN                  2                       0   \n",
       "53304                       NaN                  2                       0   \n",
       "53329                       NaN                  2                       0   \n",
       "53386                       NaN                  2                       0   \n",
       "53641                       NaN                  2                       0   \n",
       "53786                       NaN                  2                       0   \n",
       "53794                       NaN                  2                       0   \n",
       "54378                       NaN                  2                       0   \n",
       "57874                       NaN                  2                       0   \n",
       "57983                       NaN                  2                       0   \n",
       "58001                       NaN                  2                       0   \n",
       "58004                       NaN                  2                       0   \n",
       "58013                       NaN                  2                       0   \n",
       "58014                       NaN                  2                       0   \n",
       "58015                       NaN                  2                       0   \n",
       "58227                       NaN                  2                       0   \n",
       "58361                       NaN                  2                       0   \n",
       "58692                       NaN                  2                       0   \n",
       "\n",
       "       nprog end_time Unnamed: 486  Unnamed: 487 Unnamed: 488  \n",
       "516        0    22:43          NaN           NaN          NaN  \n",
       "1289       0    10:16          NaN           NaN          NaN  \n",
       "1890       0    13:44          NaN           NaN          NaN  \n",
       "2388       0    12:02          NaN           NaN          NaN  \n",
       "2578       0    10:23          NaN           NaN          NaN  \n",
       "2591       0     5:04          NaN           NaN          NaN  \n",
       "2602       0     1:02          NaN           NaN          NaN  \n",
       "2604       0    13:56          NaN           NaN          NaN  \n",
       "2671       0    17:13          NaN           NaN          NaN  \n",
       "2717       0    12:19          NaN           NaN          NaN  \n",
       "2732       0    12:14          NaN           NaN          NaN  \n",
       "2793       0    10:07          NaN           NaN          NaN  \n",
       "2951       0    16:23          NaN           NaN          NaN  \n",
       "3473       0    11:35          NaN           NaN          NaN  \n",
       "3540       0    15:15          NaN           NaN          NaN  \n",
       "3572       0    14:56          NaN           NaN          NaN  \n",
       "3598       0    16:10          NaN           NaN          NaN  \n",
       "3635       0    12:17          NaN           NaN          NaN  \n",
       "3728       0    15:03          NaN           NaN          NaN  \n",
       "4475       0    11:33          NaN           NaN          NaN  \n",
       "4866       0    11:17          NaN           NaN          NaN  \n",
       "4976       0    12:13          NaN           NaN          NaN  \n",
       "5339       0    12:15          NaN           NaN          NaN  \n",
       "5893       0    10:55          NaN           NaN          NaN  \n",
       "5941       1    10:10          NaN           NaN          NaN  \n",
       "5953       0    16:37          NaN           NaN          NaN  \n",
       "6144       0     9:48          NaN           NaN          NaN  \n",
       "6463       0    10:29          NaN           NaN          NaN  \n",
       "6962       0    12:37          NaN           NaN          NaN  \n",
       "7043       1    12:46          NaN           NaN          NaN  \n",
       "...      ...      ...          ...           ...          ...  \n",
       "51404      1    17:37          NaN           NaN          NaN  \n",
       "51416      0    10:41          NaN           NaN          NaN  \n",
       "51427      0    14:38          NaN           NaN          NaN  \n",
       "52179      0    10:55          NaN           NaN          NaN  \n",
       "52190      0    11:00          NaN           NaN          NaN  \n",
       "52454      0    18:15          NaN           NaN          NaN  \n",
       "52780      0    12:01          NaN           NaN          NaN  \n",
       "52935      0    14:29          NaN           NaN          NaN  \n",
       "53236      0    13:31          NaN           NaN          NaN  \n",
       "53255      1    10:56          NaN           NaN          NaN  \n",
       "53256      1    11:04          NaN           NaN          NaN  \n",
       "53257      1    11:19          NaN           NaN          NaN  \n",
       "53303      1    14:42          NaN           NaN          NaN  \n",
       "53304      1    14:55          NaN           NaN          NaN  \n",
       "53329      0    10:20          NaN           NaN          NaN  \n",
       "53386      0    11:38          NaN           NaN          NaN  \n",
       "53641      0    17:53          NaN           NaN          NaN  \n",
       "53786      0    11:57          NaN           NaN          NaN  \n",
       "53794      0    12:18          NaN           NaN          NaN  \n",
       "54378      0    10:45          NaN           NaN          NaN  \n",
       "57874      0     2:50          NaN           NaN          NaN  \n",
       "57983      0     9:05          NaN           NaN          NaN  \n",
       "58001      0    13:37          NaN           NaN          NaN  \n",
       "58004      0    10:09          NaN           NaN          NaN  \n",
       "58013      0     7:46          NaN           NaN          NaN  \n",
       "58014      0     7:47          NaN           NaN          NaN  \n",
       "58015      0     7:47          NaN           NaN          NaN  \n",
       "58227      0    13:05          NaN           NaN          NaN  \n",
       "58361      0    10:48          NaN           NaN          NaN  \n",
       "58692      0    11:56          NaN           NaN          NaN  \n",
       "\n",
       "[257 rows x 489 columns]"
      ]
     },
     "execution_count": 297,
     "metadata": {},
     "output_type": "execute_result"
    }
   ],
   "source": [
    "df_hh_2014[df_hh_2014[\"totin\"] == 0.0]"
   ]
  },
  {
   "cell_type": "markdown",
   "metadata": {},
   "source": [
    "There are 257 rows for which `totin` has a zero value. We cannot reasonably impute a value to `totin` in this case. Compared to the 59,566 observations in the dataset, this number is negligible, so we can safely drop them from our sample. "
   ]
  },
  {
   "cell_type": "code",
   "execution_count": 298,
   "metadata": {},
   "outputs": [],
   "source": [
    "df_hh_2014 = df_hh_2014.drop(df_hh_2014[df_hh_2014[\"totin\"] == 0.0].index, axis = 0)"
   ]
  },
  {
   "cell_type": "markdown",
   "metadata": {},
   "source": [
    "#### 2) Cleaning `reln`"
   ]
  },
  {
   "cell_type": "markdown",
   "metadata": {},
   "source": [
    "In our case, we will be considering only one household head per family. However, if we count the number of household heads per family in the `df_mem_2014` dataset,"
   ]
  },
  {
   "cell_type": "code",
   "execution_count": 299,
   "metadata": {},
   "outputs": [],
   "source": [
    "no_hhead = df_mem_2014[df_mem_2014[\"reln\"] == 1].groupby(\"mainid\")[\"reln\"].size().reset_index(name = \"no\")\n",
    "to_clean_reln = list(no_hhead.loc[no_hhead[\"no\"] > 1, \"mainid\"])"
   ]
  },
  {
   "cell_type": "markdown",
   "metadata": {},
   "source": [
    "There are 191 households where more than 1 household head had been listed. As with #1, we can drop these rows since these are negligible in number."
   ]
  },
  {
   "cell_type": "code",
   "execution_count": 300,
   "metadata": {},
   "outputs": [],
   "source": [
    "df_mem_2014 = df_mem_2014.drop(df_mem_2014[df_mem_2014[\"mainid\"].isin(to_clean_reln)].index, axis = 0)"
   ]
  },
  {
   "cell_type": "markdown",
   "metadata": {},
   "source": [
    "#### 3) Generating new variables"
   ]
  },
  {
   "cell_type": "markdown",
   "metadata": {},
   "source": [
    "We now add some of the variables in `df_mem_2014` to the `df_hh_2014` dataset. These include:\n",
    "- `educal`: a categorical variable describing the highest educational attainment of the household head\n",
    "- `educal2`: `educal`, categorized into four groups: grade school, high school, vocational and college\n",
    "- `sex`: a categorical variable describing the sex of the household head - 1 if male, 2 otherwise\n",
    "- `numdep`: the number of dependents in the household (dependents being those aged below 15 and above 59)\n",
    "- `depratio`: the ratio of dependents to household size\n",
    "- `totinc_percap`: total income per capita\n",
    "- `ispoor`: defined as those whose total income per capita is less than P 25,007 (based on the 2015 poverty threshold for Pasay City) - 1 if poor, 0 otherwise\n",
    "\n",
    "All variables for which `educal`, `age_yr` and `sex` are NaN's will be dropped. "
   ]
  },
  {
   "cell_type": "code",
   "execution_count": 301,
   "metadata": {},
   "outputs": [],
   "source": [
    "# Generate some of the household-level variables from df_mem_2014 - 1\n",
    "hh_subset = df_mem_2014[[\"mainid\", \"reln\", \"educal\", \"age_yr\", \"sex\"]]\n",
    "hh_subset = hh_subset[hh_subset[\"reln\"] == 1].reset_index(drop = True)\n",
    "hh_subset = hh_subset.drop(\"reln\", axis = 1)\n",
    "df_hh_2014 = pd.merge(df_hh_2014, hh_subset, on = \"mainid\", how = \"left\")\n",
    "df_hh_2014[[\"educal\", \"age_yr\", \"sex\"]] = df_hh_2014[[\"educal\", \"age_yr\", \"sex\"]].dropna(axis = 0)\n",
    "\n",
    "hh_subset = df_mem_2014[[\"mainid\", \"age_yr\"]]\n",
    "hh_subset = hh_subset[(hh_subset[\"age_yr\"] >= 60) | (hh_subset[\"age_yr\"] <= 14)].groupby(\"mainid\")[\"age_yr\"].count().to_frame(\"numdep\").reset_index()\n",
    "df_hh_2014 = pd.merge(df_hh_2014, hh_subset, on = \"mainid\", how = \"left\")\n",
    "df_hh_2014[\"numdep\"] = df_hh_2014[\"numdep\"].fillna(0)"
   ]
  },
  {
   "cell_type": "code",
   "execution_count": 302,
   "metadata": {},
   "outputs": [],
   "source": [
    "# Generate some of the household-level variables from df_mem_2014 - 2\n",
    "gs_idx = [1, 2, 11, 12, 13, 14, 15, 16, 51, 53, 100]\n",
    "hs_idx = [17, 18, 19, 20, 21, 22, 52, 54, 200]\n",
    "voc_idx = [23, 24, 25, 210]\n",
    "col_idx = [31, 32, 33, 34, 41, 300, 400]\n",
    "\n",
    "df_hh_2014[\"educal2\"] = df_hh_2014[\"educal\"].apply(lambda x: \"grade school\" if x in gs_idx else (\"high school\" if x in hs_idx else (\"vocational\" if x in voc_idx else (\"college\" if x in col_idx else np.nan))))\n",
    "df_hh_2014[\"sex\"] = df_hh_2014[\"sex\"].apply(lambda x: 1 if x == 1 else 0)\n",
    "df_hh_2014[\"depratio\"] = df_hh_2014[\"numdep\"] / df_hh_2014[\"phsize\"]\n",
    "df_hh_2014[\"totin_percap\"] = df_hh_2014[\"totin\"] / df_hh_2014[\"phsize\"]\n",
    "df_hh_2014[\"ispoor\"] = (df_hh_2014[\"totin_percap\"] <= 25007) * 1"
   ]
  },
  {
   "cell_type": "markdown",
   "metadata": {},
   "source": [
    "### 3.3.2 Exploratory Data Analysis"
   ]
  },
  {
   "cell_type": "markdown",
   "metadata": {},
   "source": [
    "Since our objective is to determine how the educational attainment of the household head influences a household's poverty status, we intend to look into it directly (as in point 1), as well as examine how the household head's educational attainment affects key poverty determinants such as his/her children's educational outcomes (point 2) and his/her job status (point 3). As such, bar graphs will primarily be employed, since the focus is on the comparison of the outcomes for different educational attainments."
   ]
  },
  {
   "cell_type": "markdown",
   "metadata": {},
   "source": [
    "##### 1) How is the educational attainment of the household head related to particular poverty measures/correlates (e.g., income per capita, family size, dependency ratio, etc.)? "
   ]
  },
  {
   "cell_type": "markdown",
   "metadata": {},
   "source": [
    "To visualize how the educational attainment of the household head affects the poverty status of a household, it helps to find out how it affects total income per capita (since poverty status is computed directly from it). First, we compute the mean income per `educal2` group:"
   ]
  },
  {
   "cell_type": "code",
   "execution_count": 303,
   "metadata": {},
   "outputs": [
    {
     "data": {
      "text/plain": [
       "Text(0.5,-0.6,'Figure 1. Mean income per capita')"
      ]
     },
     "execution_count": 303,
     "metadata": {},
     "output_type": "execute_result"
    },
    {
     "data": {
      "image/png": "[encoded data removed]",
      "text/plain": [
       "<Figure size 432x288 with 1 Axes>"
      ]
     },
     "metadata": {},
     "output_type": "display_data"
    }
   ],
   "source": [
    "# Plot mean income per educational attainment group\n",
    "inc_per_grp = df_hh_2014.groupby(\"educal2\")[\"totin_percap\"].mean().reset_index()\n",
    "\n",
    "educ_levels = [\"grade school\", \"high school\", \"vocational\", \"college\"]\n",
    "educ_mapping = {level: i for i, level in enumerate(educ_levels)}\n",
    "key = inc_per_grp[\"educal2\"].map(educ_mapping)\n",
    "inc_per_grp = inc_per_grp.iloc[key.argsort()]\n",
    "\n",
    "inc_per_grp.plot.bar(x = inc_per_grp[\"educal2\"], legend = False)\n",
    "plt.xlabel(\"Educational attainment of household head\")\n",
    "plt.ylabel(\"Mean income per capita\")\n",
    "plt.title(\"Figure 1. Mean income per capita\", y = -0.6)"
   ]
  },
  {
   "cell_type": "markdown",
   "metadata": {},
   "source": [
    "Notice from Figure 1 that those whose household heads finished within grade school earn the least on average, while those whose heads finished within high school are not too far behind. Meanwhile, those whose household heads finish within college earn around P30,000 more, compared to them. This reinforces the notion that the education provides one with skills which can then be used to find higher-earning jobs."
   ]
  },
  {
   "cell_type": "markdown",
   "metadata": {},
   "source": [
    "We can also plot the number of poor households per `educal2` group."
   ]
  },
  {
   "cell_type": "code",
   "execution_count": 304,
   "metadata": {},
   "outputs": [
    {
     "data": {
      "text/plain": [
       "Text(0.5,-0.6,'Figure 2. Percentage of poor households')"
      ]
     },
     "execution_count": 304,
     "metadata": {},
     "output_type": "execute_result"
    },
    {
     "data": {
      "image/png": "[encoded data removed]",
      "text/plain": [
       "<Figure size 432x288 with 1 Axes>"
      ]
     },
     "metadata": {},
     "output_type": "display_data"
    }
   ],
   "source": [
    "# Plot the number of poor households per educational attainment group.\n",
    "pov_per_grp = (df_hh_2014.groupby(\"educal2\")[\"ispoor\"].sum() / df_hh_2014.groupby(\"educal2\")[\"educal2\"].count()).reset_index()\n",
    "\n",
    "key = pov_per_grp[\"educal2\"].map(educ_mapping)\n",
    "pov_per_grp = pov_per_grp.iloc[key.argsort()]\n",
    "\n",
    "pov_per_grp.plot.bar(x = pov_per_grp[\"educal2\"], legend = False)\n",
    "plt.xlabel(\"Educational attainment of household head\")\n",
    "plt.ylabel(\"Percentage of poor households\")\n",
    "plt.title(\"Figure 2. Percentage of poor households\", y = -0.6)"
   ]
  },
  {
   "cell_type": "markdown",
   "metadata": {},
   "source": [
    "Again, this is roughly in line with what we observed earlier. From Figure 2, around 18% of households where the household head finished within grade school now experience poverty, while those where the household head finished high school are not far behind. We can also look at the family size and dependency ratio to get a better profile."
   ]
  },
  {
   "cell_type": "code",
   "execution_count": 305,
   "metadata": {},
   "outputs": [
    {
     "data": {
      "text/plain": [
       "Text(0.5,-0.6,'Figure 3. Family size')"
      ]
     },
     "execution_count": 305,
     "metadata": {},
     "output_type": "execute_result"
    },
    {
     "data": {
      "image/png": "[encoded data removed]",
      "text/plain": [
       "<Figure size 432x288 with 1 Axes>"
      ]
     },
     "metadata": {},
     "output_type": "display_data"
    }
   ],
   "source": [
    "# Plot mean dependency ratio per educational attainment group.\n",
    "phsize_per_grp = df_hh_2014.groupby(\"educal2\")[\"phsize\"].mean().reset_index()\n",
    "\n",
    "key = phsize_per_grp[\"educal2\"].map(educ_mapping)\n",
    "phsize_per_grp = phsize_per_grp.iloc[key.argsort()]\n",
    "\n",
    "phsize_per_grp.plot.bar(x = phsize_per_grp[\"educal2\"], legend = False)\n",
    "plt.xlabel(\"Educational attainment of household head\")\n",
    "plt.ylabel(\"Family size\")\n",
    "plt.title(\"Figure 3. Family size\", y = -0.6)"
   ]
  },
  {
   "cell_type": "code",
   "execution_count": 306,
   "metadata": {},
   "outputs": [
    {
     "data": {
      "text/plain": [
       "Text(0.5,-0.6,'Figure 4. Mean dependency ratio')"
      ]
     },
     "execution_count": 306,
     "metadata": {},
     "output_type": "execute_result"
    },
    {
     "data": {
      "image/png": "[encoded data removed]",
      "text/plain": [
       "<Figure size 432x288 with 1 Axes>"
      ]
     },
     "metadata": {},
     "output_type": "display_data"
    }
   ],
   "source": [
    "# Plot mean dependency ratio per educational attainment group.\n",
    "depratio_per_grp = df_hh_2014.groupby(\"educal2\")[\"depratio\"].mean().reset_index()\n",
    "\n",
    "key = depratio_per_grp[\"educal2\"].map(educ_mapping)\n",
    "depratio_per_grp = depratio_per_grp.iloc[key.argsort()]\n",
    "\n",
    "depratio_per_grp.plot.bar(x = depratio_per_grp[\"educal2\"], legend = False)\n",
    "plt.xlabel(\"Educational attainment of household head\")\n",
    "plt.ylabel(\"Mean dependency ratio\")\n",
    "plt.title(\"Figure 4. Mean dependency ratio\", y = -0.6)"
   ]
  },
  {
   "cell_type": "markdown",
   "metadata": {},
   "source": [
    "Now from Figures 3 and 4, we see that not only do households where the household head finished within grade school earn the least income, but they also bear the burden of having larger families and more dependents on average. This supports the common claim that education not only helps in developing the right job skills, but it also aids in developing proper family planning and management skills."
   ]
  },
  {
   "cell_type": "markdown",
   "metadata": {},
   "source": [
    "We can also check the variable `fshort`, which tells whether or not the family experienced hunger in the past three months."
   ]
  },
  {
   "cell_type": "code",
   "execution_count": 307,
   "metadata": {},
   "outputs": [
    {
     "data": {
      "text/plain": [
       "Text(0.5,-0.6,'Figure 5. Food Shortage Incidence')"
      ]
     },
     "execution_count": 307,
     "metadata": {},
     "output_type": "execute_result"
    },
    {
     "data": {
      "image/png": "[encoded data removed]",
      "text/plain": [
       "<Figure size 432x288 with 1 Axes>"
      ]
     },
     "metadata": {},
     "output_type": "display_data"
    }
   ],
   "source": [
    "# Plot food shortage incidence per educational attainment group.\n",
    "df_hh_2014[\"fshort\"] = df_hh_2014[\"fshort\"].apply(lambda x: 1 if x == 1 else 0)\n",
    "\n",
    "fshort_per_grp = (df_hh_2014.groupby(\"educal2\")[\"fshort\"].sum() / df_hh_2014.groupby(\"educal2\")[\"fshort\"].count()).reset_index()\n",
    "\n",
    "key = fshort_per_grp[\"educal2\"].map(educ_mapping)\n",
    "fshort_per_grp = fshort_per_grp.iloc[key.argsort()]\n",
    "\n",
    "fshort_per_grp.plot.bar(x = fshort_per_grp[\"educal2\"], legend = False)\n",
    "plt.xlabel(\"Educational attainment of household head\")\n",
    "plt.ylabel(\"Food shortage incidence\")\n",
    "plt.title(\"Figure 5. Food Shortage Incidence\", y = -0.6)"
   ]
  },
  {
   "cell_type": "markdown",
   "metadata": {},
   "source": [
    "While the incidence of food shortage is generally small in Pasay City, a majority of the cases are among households where the household head finished within grade school. "
   ]
  },
  {
   "cell_type": "markdown",
   "metadata": {},
   "source": [
    "We can also check the participation in government programs like the conditional cash transfer (CCT) program."
   ]
  },
  {
   "cell_type": "code",
   "execution_count": 308,
   "metadata": {},
   "outputs": [
    {
     "data": {
      "text/plain": [
       "Text(0.5,-0.6,'Figure 6. Participation in CCT')"
      ]
     },
     "execution_count": 308,
     "metadata": {},
     "output_type": "execute_result"
    },
    {
     "data": {
      "image/png": "[encoded data removed]",
      "text/plain": [
       "<Figure size 432x288 with 1 Axes>"
      ]
     },
     "metadata": {},
     "output_type": "display_data"
    }
   ],
   "source": [
    "# Plot CCT participation per educational attainment group.\n",
    "cct_per_grp = df_hh_2014.groupby([\"educal2\", \"prog_cct\"])[\"educal2\"].count() / df_hh_2014.groupby(\"educal2\")[\"educal2\"].count()\n",
    "cct_per_grp = cct_per_grp.unstack(\"prog_cct\").reset_index()\n",
    "\n",
    "key = cct_per_grp[\"educal2\"].map(educ_mapping)\n",
    "cct_per_grp = cct_per_grp.iloc[key.argsort()]\n",
    "\n",
    "cct_per_grp.plot.bar(x = cct_per_grp[\"educal2\"], stacked = True, legend = False)\n",
    "plt.xlabel(\"Educational attainment of household head\")\n",
    "plt.ylabel(\"Frequency\")\n",
    "plt.legend([\"Yes\", \"No\"], loc='center left', bbox_to_anchor=(1, 0.5))\n",
    "plt.title(\"Figure 6. Participation in CCT\", y = -0.6)"
   ]
  },
  {
   "cell_type": "markdown",
   "metadata": {},
   "source": [
    "From Figure 6, participation is slightly higher for households where the household head finished within grade school compared to the other groups, again in line with the earlier observations."
   ]
  },
  {
   "cell_type": "markdown",
   "metadata": {},
   "source": [
    "<b> SUMMARY: </b>\n",
    "\n",
    "In general, households where the household head finished within grade school tend to have lower income. As a result, poverty rates for these households are higher. Family size and dependency ratio are also higher for this group of households. They also tend to experience food shortage and are more likely to participate in the CCT program. "
   ]
  },
  {
   "cell_type": "markdown",
   "metadata": {},
   "source": [
    "##### 2) How does the educational attainment of the household head affect the educational outcomes of his/her children? "
   ]
  },
  {
   "cell_type": "markdown",
   "metadata": {},
   "source": [
    "In order to explain our observations in point 1, we need to delve into how the household head's educational attainment can eventually result in poverty. One way by which the household head's educational attainment can influence a household's poverty status is by affecting his/her children and grandchildren's educational outcomes. It may be that the household head's own outlook on education is \"inherited\" by the children/grandchildren, so that they too are convinced to pursue college or to drop out early. It could also be that household heads who drop out early cannot get decently-earning jobs, so they enlist the help of their children, so that they end up dropping out early too. "
   ]
  },
  {
   "cell_type": "markdown",
   "metadata": {},
   "source": [
    "Note that the children/grandchildren are marked in the data as when `reln` = 3, 4 or 5. However, since we are concerned with the household head's children/grandchildren who are of schooling age, we limit our observations to children/grandchildren who are between the ages of 5 and 21. Also, since we are concerned with those who drop out from school, we exclude children who are of age 4 in the data, since a quick histogram will reveal that many families do not send their children to school at that age, probably because they believe that they are too young for school."
   ]
  },
  {
   "cell_type": "code",
   "execution_count": 309,
   "metadata": {},
   "outputs": [],
   "source": [
    "# Generate all variables required.\n",
    "df_mem_2014[\"educind\"] = df_mem_2014[\"educind\"].apply(lambda x: 1 if x == 1 else 0)\n",
    "df_mem_2014[\"jobind\"] = df_mem_2014[\"jobind\"].apply(lambda x: 1 if x == 1 else 0)\n",
    "hh_subset = df_mem_2014[[\"mainid\", \"reln\", \"age_yr\", \"sex\", \"educind\", \"jobind\"]]\n",
    "\n",
    "numchild_subset = hh_subset[(hh_subset[\"reln\"].isin([3, 4, 5])) & (hh_subset[\"age_yr\"] >= 6) & (hh_subset[\"age_yr\"] <= 20)].groupby(\"mainid\")[\"age_yr\"].count().to_frame(\"numchild\").reset_index()\n",
    "numschool_subset = hh_subset[(hh_subset[\"reln\"].isin([3, 4, 5])) & (hh_subset[\"age_yr\"] >= 6) & (hh_subset[\"age_yr\"] <= 20)].groupby(\"mainid\")[\"educind\"].sum().to_frame(\"numschool\").reset_index()\n",
    "sumages_subset = hh_subset[(hh_subset[\"reln\"].isin([3, 4, 5])) & (hh_subset[\"age_yr\"] >= 6) & (hh_subset[\"age_yr\"] <= 20) & (hh_subset[\"educind\"] == 0)].groupby(\"mainid\")[\"age_yr\"].sum().to_frame(\"sum_ages_not_school\").reset_index()\n",
    "nummale_not_school_subset = hh_subset[(hh_subset[\"reln\"].isin([3, 4, 5])) & (hh_subset[\"age_yr\"] >= 6) & (hh_subset[\"age_yr\"] <= 20) & (hh_subset[\"educind\"] == 0) & (hh_subset[\"sex\"] == 1)].groupby(\"mainid\")[\"mainid\"].count().to_frame(\"male_not_school\").reset_index()\n",
    "nummale_subset = hh_subset[(hh_subset[\"reln\"].isin([3, 4, 5])) & (hh_subset[\"age_yr\"] >= 6) & (hh_subset[\"age_yr\"] <= 20) & (hh_subset[\"sex\"] == 1)].groupby(\"mainid\")[\"mainid\"].count().to_frame(\"male\").reset_index()\n",
    "numfemale_not_school_subset = hh_subset[(hh_subset[\"reln\"].isin([3, 4, 5])) & (hh_subset[\"age_yr\"] >= 6) & (hh_subset[\"age_yr\"] <= 20) & (hh_subset[\"educind\"] == 0) & (hh_subset[\"sex\"] == 2)].groupby(\"mainid\")[\"mainid\"].count().to_frame(\"female_not_school\").reset_index()\n",
    "numfemale_subset = hh_subset[(hh_subset[\"reln\"].isin([3, 4, 5])) & (hh_subset[\"age_yr\"] >= 6) & (hh_subset[\"age_yr\"] <= 20) & (hh_subset[\"sex\"] == 2)].groupby(\"mainid\")[\"mainid\"].count().to_frame(\"female\").reset_index()\n",
    "childemp_subset = hh_subset[(hh_subset[\"reln\"].isin([3, 4, 5])) & (hh_subset[\"age_yr\"] >= 6) & (hh_subset[\"age_yr\"] <= 20) & (hh_subset[\"educind\"] == 0)].groupby(\"mainid\")[\"jobind\"].sum().to_frame(\"childemp\").reset_index()\n",
    "\n",
    "df_hh_2014 = pd.merge(df_hh_2014, numchild_subset, on = \"mainid\", how = \"left\")\n",
    "df_hh_2014 = pd.merge(df_hh_2014, numschool_subset, on = \"mainid\", how = \"left\")\n",
    "df_hh_2014 = pd.merge(df_hh_2014, sumages_subset, on = \"mainid\", how = \"left\")\n",
    "df_hh_2014 = pd.merge(df_hh_2014, nummale_not_school_subset, on = \"mainid\", how = \"left\")\n",
    "df_hh_2014 = pd.merge(df_hh_2014, nummale_subset, on = \"mainid\", how = \"left\")\n",
    "df_hh_2014 = pd.merge(df_hh_2014, numfemale_not_school_subset, on = \"mainid\", how = \"left\")\n",
    "df_hh_2014 = pd.merge(df_hh_2014, numfemale_subset, on = \"mainid\", how = \"left\")\n",
    "df_hh_2014 = pd.merge(df_hh_2014, childemp_subset, on = \"mainid\", how = \"left\")"
   ]
  },
  {
   "cell_type": "code",
   "execution_count": 310,
   "metadata": {},
   "outputs": [],
   "source": [
    "# Fill all missing values with 0\n",
    "df_hh_2014[[\"numchild\", \"numschool\", \"sum_ages_not_school\", \"male_not_school\", \"male\", \"female_not_school\", \"female\", \"childemp\"]] = df_hh_2014[[\"numchild\", \"numschool\", \"sum_ages_not_school\", \"male_not_school\", \"male\", \"female_not_school\", \"female\", \"childemp\"]].fillna(0)"
   ]
  },
  {
   "cell_type": "markdown",
   "metadata": {},
   "source": [
    "From the above cells, we generate new variables from the df_mem_2014 dataset, which we then append to the household-level dataset using `pd.merge`. We also remove all NaN's by replacing them with 0's."
   ]
  },
  {
   "cell_type": "markdown",
   "metadata": {},
   "source": [
    "We first compute for the number of children who <i> don't </i> go to school relative to the total number of children per household."
   ]
  },
  {
   "cell_type": "code",
   "execution_count": 311,
   "metadata": {},
   "outputs": [
    {
     "data": {
      "text/plain": [
       "Text(0.5,-0.6,'Figure 7. Mean non-attendance rate')"
      ]
     },
     "execution_count": 311,
     "metadata": {},
     "output_type": "execute_result"
    },
    {
     "data": {
      "image/png": "[encoded data removed]",
      "text/plain": [
       "<Figure size 432x288 with 1 Axes>"
      ]
     },
     "metadata": {},
     "output_type": "display_data"
    }
   ],
   "source": [
    "# Plot mean of the number of children who do not go to school per educational attainment group (nonatt_per_grp).\n",
    "nonatt_per_grp = (1 - (df_hh_2014.groupby(\"educal2\")[\"numschool\"].sum() / df_hh_2014.groupby(\"educal2\")[\"numchild\"].sum())).reset_index()\n",
    "\n",
    "key = nonatt_per_grp[\"educal2\"].map(educ_mapping)\n",
    "nonatt_per_grp = nonatt_per_grp.iloc[key.argsort()]\n",
    "\n",
    "nonatt_per_grp.plot.bar(x = nonatt_per_grp[\"educal2\"], legend = False)\n",
    "plt.xlabel(\"Educational attainment of household head\")\n",
    "plt.ylabel(\"Non-attendance rate\")\n",
    "plt.title(\"Figure 7. Mean non-attendance rate\", y = -0.6)"
   ]
  },
  {
   "cell_type": "markdown",
   "metadata": {},
   "source": [
    "As expected, from Figure 7, households where the heads only finished up to grade school are associated with the greatest rates of non-attendance in school. At what level do they stop schooling?"
   ]
  },
  {
   "cell_type": "markdown",
   "metadata": {},
   "source": [
    "To answer this, we can examine the highest educational attainment of the non-attending children per educational attainment group."
   ]
  },
  {
   "cell_type": "code",
   "execution_count": 312,
   "metadata": {},
   "outputs": [
    {
     "data": {
      "text/plain": [
       "<matplotlib.legend.Legend at 0x26b8a960978>"
      ]
     },
     "execution_count": 312,
     "metadata": {},
     "output_type": "execute_result"
    },
    {
     "data": {
      "image/png": "[encoded data removed]",
      "text/plain": [
       "<Figure size 432x288 with 1 Axes>"
      ]
     },
     "metadata": {},
     "output_type": "display_data"
    }
   ],
   "source": [
    "# Plot educational attainment of children\n",
    "hh_subset = df_hh_2014[[\"mainid\", \"educal2\"]]\n",
    "df_mem_2014 = pd.merge(df_mem_2014, hh_subset, on = \"mainid\", how = \"left\")\n",
    "\n",
    "df_mem_2014[\"educal3\"] = df_mem_2014[\"educal\"].apply(lambda x: \"grade school\" if x in gs_idx else (\"high school\" if x in hs_idx else (\"vocational\" if x in voc_idx else (\"college\" if x in col_idx else np.nan))))\n",
    "df_mem_2014_sub = df_mem_2014[(df_mem_2014[\"reln\"].isin([3, 4, 5])) & (df_mem_2014[\"age_yr\"] >= 6) & (df_mem_2014[\"age_yr\"] <= 20)]\n",
    "educal_per_grp = df_mem_2014_sub.groupby([\"educal2\", \"educal3\"])[\"educal2\"].count() / df_hh_2014.groupby(\"educal2\")[\"educal2\"].count()\n",
    "educal_per_grp = educal_per_grp.unstack(\"educal3\").reset_index()\n",
    "\n",
    "key = educal_per_grp[\"educal2\"].map(educ_mapping)\n",
    "educal_per_grp = educal_per_grp.iloc[key.argsort()]\n",
    "\n",
    "educal_per_grp.plot.bar(x = educal_per_grp[\"educal2\"], legend = False)\n",
    "plt.xlabel(\"Educational attainment of household head\")\n",
    "plt.ylabel(\"Age\")\n",
    "plt.title(\"Figure 8. Educational attainment of non-attending children\", y = -0.6)\n",
    "plt.legend(loc='center left', bbox_to_anchor=(1, 0.5))"
   ]
  },
  {
   "cell_type": "markdown",
   "metadata": {},
   "source": [
    "We see from Figure 8 that most of the children of schooling age finish high school at least, regardless of educational attainment."
   ]
  },
  {
   "cell_type": "markdown",
   "metadata": {},
   "source": [
    "We can also examine the mean age of the non-attending children per educational attainment group."
   ]
  },
  {
   "cell_type": "code",
   "execution_count": 313,
   "metadata": {},
   "outputs": [
    {
     "data": {
      "text/plain": [
       "Text(0.5,-0.6,'Figure 9. Mean age of non-attending children')"
      ]
     },
     "execution_count": 313,
     "metadata": {},
     "output_type": "execute_result"
    },
    {
     "data": {
      "image/png": "[encoded data removed]",
      "text/plain": [
       "<Figure size 432x288 with 1 Axes>"
      ]
     },
     "metadata": {},
     "output_type": "display_data"
    }
   ],
   "source": [
    "# Plot mean age of non-attending children\n",
    "df_hh_2014[\"num_not_school\"] = df_hh_2014[\"numchild\"] - df_hh_2014[\"numschool\"]\n",
    "age_per_grp = (df_hh_2014.groupby(\"educal2\")[\"sum_ages_not_school\"].sum() / df_hh_2014.groupby(\"educal2\")[\"num_not_school\"].sum()).reset_index()\n",
    "\n",
    "key = age_per_grp[\"educal2\"].map(educ_mapping)\n",
    "age_per_grp = age_per_grp.iloc[key.argsort()]\n",
    "\n",
    "age_per_grp.plot.bar(x = age_per_grp[\"educal2\"], legend = False)\n",
    "plt.xlabel(\"Educational attainment of household head\")\n",
    "plt.ylabel(\"Age\")\n",
    "plt.title(\"Figure 9. Mean age of non-attending children\", y = -0.6)"
   ]
  },
  {
   "cell_type": "markdown",
   "metadata": {},
   "source": [
    "Figure 9 shows that for all four educational attainment groups, the mean age of non-attending children is at around 17 years old, which coincides with the age at which most children begin college. \n",
    "\n",
    "Thus, non-attendance (at least in the case of Pasay City) is primarily a matter of getting students to pursue either vocational school or college, regardless of the educational attainment of the household head. This is especially true for the case of households where the household head finished within grade school, because as mentioned awhile ago, they are associated with a significantly higher dropout rate. "
   ]
  },
  {
   "cell_type": "code",
   "execution_count": 314,
   "metadata": {},
   "outputs": [
    {
     "data": {
      "text/plain": [
       "Text(0.5,-0.25,'Figure 10. Age of non-attending children')"
      ]
     },
     "execution_count": 314,
     "metadata": {},
     "output_type": "execute_result"
    },
    {
     "data": {
      "image/png": "[encoded data removed]",
      "text/plain": [
       "<Figure size 432x288 with 1 Axes>"
      ]
     },
     "metadata": {},
     "output_type": "display_data"
    }
   ],
   "source": [
    "# Plot histogram of age of non-attending children\n",
    "hh_subset = df_mem_2014[[\"mainid\", \"reln\", \"age_yr\", \"educind\"]]\n",
    "hh_subset = hh_subset[(hh_subset[\"reln\"].isin([3, 4, 5])) & (hh_subset[\"age_yr\"] >= 6) & (hh_subset[\"age_yr\"] <= 20) & (hh_subset[\"educind\"] == 0)]\n",
    "plt.hist(hh_subset[\"age_yr\"])\n",
    "plt.xlabel(\"Age\")\n",
    "plt.ylabel(\"Frequency\")\n",
    "plt.title(\"Figure 10. Age of non-attending children\", y = -0.25)"
   ]
  },
  {
   "cell_type": "markdown",
   "metadata": {},
   "source": [
    "The histogram in Figure 10 also supports the fact that a majority of the children who dropout are from the ages of 17-20, meaning that they stop attending college. This could be because they pursued an associates degree, making them finish earlier. This could also be because of other factors."
   ]
  },
  {
   "cell_type": "code",
   "execution_count": 315,
   "metadata": {},
   "outputs": [
    {
     "data": {
      "text/plain": [
       "Text(0.5,-0.6,'Figure 11. Mean non-attendance rate by sex')"
      ]
     },
     "execution_count": 315,
     "metadata": {},
     "output_type": "execute_result"
    },
    {
     "data": {
      "image/png": "[encoded data removed]",
      "text/plain": [
       "<Figure size 432x288 with 1 Axes>"
      ]
     },
     "metadata": {},
     "output_type": "display_data"
    }
   ],
   "source": [
    "# Plot gender of non-attending children per educational attainment group.\n",
    "gen_per_grp1 = (df_hh_2014.groupby(\"educal2\")[\"male_not_school\"].sum() / df_hh_2014.groupby(\"educal2\")[\"male\"].sum()).to_frame(\"male_not_school\")\n",
    "gen_per_grp2 = (df_hh_2014.groupby(\"educal2\")[\"female_not_school\"].sum() / df_hh_2014.groupby(\"educal2\")[\"female\"].sum()).to_frame(\"female_not_school\")\n",
    "df_gen = pd.concat([gen_per_grp1, gen_per_grp2], axis = 1).reset_index()\n",
    "\n",
    "key = df_gen[\"educal2\"].map(educ_mapping)\n",
    "df_gen = df_gen.iloc[key.argsort()]\n",
    "\n",
    "df_gen[[\"male_not_school\", \"female_not_school\"]].plot.bar(x = df_gen[\"educal2\"])\n",
    "plt.xlabel(\"Educational attainment of household head\")\n",
    "plt.ylabel(\"Mean non-attendance rate\")\n",
    "plt.legend([\"Males not in school\", \"Females not in school\"], loc='center left', bbox_to_anchor=(1, 0.5))\n",
    "plt.title(\"Figure 11. Mean non-attendance rate by sex\", y = -0.6)"
   ]
  },
  {
   "cell_type": "markdown",
   "metadata": {},
   "source": [
    "To determine what these other factors might be, we can plot the number of non-attending students by gender and see if it paints a better picture. Figure 11 shows that on average, males are more likely to dropout, probably to help in supporting the family. Females are also associated with a higher dropout rate among households where the head only finished within grade school, probably due to a higher incidence of teenage pregnancies among these households."
   ]
  },
  {
   "cell_type": "markdown",
   "metadata": {},
   "source": [
    "We can check our first claim by referring to the variable `jobind` and computing the number of school-age children who have a job per educational attainment group."
   ]
  },
  {
   "cell_type": "code",
   "execution_count": 316,
   "metadata": {},
   "outputs": [
    {
     "data": {
      "text/plain": [
       "Text(0.5,-0.6,'Figure 12. Percentage of Employed Non-Attending Children')"
      ]
     },
     "execution_count": 316,
     "metadata": {},
     "output_type": "execute_result"
    },
    {
     "data": {
      "image/png": "[encoded data removed]",
      "text/plain": [
       "<Figure size 432x288 with 1 Axes>"
      ]
     },
     "metadata": {},
     "output_type": "display_data"
    }
   ],
   "source": [
    "# Plot employed non-attending children per educational attainment group.\n",
    "childemp_per_grp = (df_hh_2014.groupby(\"educal2\")[\"childemp\"].sum() / df_hh_2014.groupby(\"educal2\")[\"childemp\"].count()).reset_index()\n",
    "\n",
    "key = childemp_per_grp[\"educal2\"].map(educ_mapping)\n",
    "childemp_per_grp = childemp_per_grp.iloc[key.argsort()]\n",
    "\n",
    "childemp_per_grp.plot.bar(x = childemp_per_grp[\"educal2\"], legend = False)\n",
    "plt.xlabel(\"Educational attainment of household head\")\n",
    "plt.ylabel(\"Employed non-attending children\")\n",
    "plt.title(\"Figure 12. Percentage of Employed Non-Attending Children\", y = -0.6)"
   ]
  },
  {
   "cell_type": "markdown",
   "metadata": {},
   "source": [
    "From Figure 12, we see that households where the household head stopped earlier are associated with higher rates of employment among school-age children."
   ]
  },
  {
   "cell_type": "markdown",
   "metadata": {},
   "source": [
    "We cannot check the second claim directly, as there is no variable that indicates the frequency of teenage pregnancies per household. However, the variable `uniparind` allows us to check how many single parent families there are per household."
   ]
  },
  {
   "cell_type": "code",
   "execution_count": 317,
   "metadata": {},
   "outputs": [
    {
     "data": {
      "text/plain": [
       "Text(0.5,-0.6,'Figure 13. Mean Incidence of Single Parents')"
      ]
     },
     "execution_count": 317,
     "metadata": {},
     "output_type": "execute_result"
    },
    {
     "data": {
      "image/png": "[encoded data removed]",
      "text/plain": [
       "<Figure size 432x288 with 1 Axes>"
      ]
     },
     "metadata": {},
     "output_type": "display_data"
    }
   ],
   "source": [
    "# Plot incidence of single parents per educational attainment group.\n",
    "df_hh_2014[\"uniparind\"] = df_hh_2014[\"uniparind\"].apply(lambda x: 1 if x == 1 else 0)\n",
    "uniparind_per_grp = (df_hh_2014.groupby(\"educal2\")[\"uniparind\"].sum() / df_hh_2014.groupby(\"educal2\")[\"educal2\"].count()).reset_index()\n",
    "\n",
    "key = uniparind_per_grp[\"educal2\"].map(educ_mapping)\n",
    "uniparind_per_grp = uniparind_per_grp.iloc[key.argsort()]\n",
    "\n",
    "uniparind_per_grp.plot.bar(x = uniparind_per_grp[\"educal2\"], legend = False)\n",
    "plt.xlabel(\"Educational attainment of household head\")\n",
    "plt.ylabel(\"Mean incidence of single parents\")\n",
    "plt.title(\"Figure 13. Mean Incidence of Single Parents\", y = -0.6)"
   ]
  },
  {
   "cell_type": "markdown",
   "metadata": {},
   "source": [
    "Figure 13 shows that households where the household head had only finished within high school are associated with a higher average incidence of single parents -- be it that the household head is himself/herself a single parent or one of the children gave birth to a child at a relatively young age. Again, this goes in line with the claim that education helps instill proper family planning/management. Moreover, household heads who pursue higher education are likely to postpone family planning and as such, they probably could be expected to make more mature decisions regarding such."
   ]
  },
  {
   "cell_type": "markdown",
   "metadata": {},
   "source": [
    "Lastly, we can consider the variable `ynotsch`, which details why the child did not consider going to school."
   ]
  },
  {
   "cell_type": "code",
   "execution_count": 318,
   "metadata": {},
   "outputs": [
    {
     "data": {
      "text/plain": [
       "Text(0.5,-0.25,'Figure 14. Reasons for Not Studying')"
      ]
     },
     "execution_count": 318,
     "metadata": {},
     "output_type": "execute_result"
    },
    {
     "data": {
      "image/png": "[encoded data removed]",
      "text/plain": [
       "<Figure size 1440x720 with 1 Axes>"
      ]
     },
     "metadata": {},
     "output_type": "display_data"
    }
   ],
   "source": [
    "# Plot reasons for studying per educational attainment group\n",
    "hh_subset = df_mem_2014[(df_mem_2014[\"reln\"].isin([3, 4, 5])) & (df_mem_2014[\"age_yr\"] >= 6) & (df_mem_2014[\"age_yr\"] <= 20)]\n",
    "ynotsch = hh_subset.groupby([\"educal2\", \"ynotsch\"])[\"educal2\"].count() / hh_subset.groupby(\"educal2\")[\"educal2\"].count()\n",
    "ynotsch = ynotsch.unstack([\"ynotsch\"]).reset_index()\n",
    "\n",
    "key = ynotsch[\"educal2\"].map(educ_mapping)\n",
    "ynotsch = ynotsch.iloc[key.argsort()]\n",
    "\n",
    "ynotsch.plot.bar(x = ynotsch[\"educal2\"], figsize = (20, 10), colormap = \"tab20b\")\n",
    "plt.xlabel(\"Educational attainment of household head\")\n",
    "plt.ylabel(\"Frequency\")\n",
    "ynotsch_list = [\"far school\", \"no school within brgy\", \"no transportation\", \"high cost\", \"illness\", \"housekeeping\", \"marriage\", \"employment\", \\\n",
    "               \"lack of interest\", \"cannot cope\", \"already finished\", \"problem with school record\", \"problem with birth certificate\", \"too young\", \\\n",
    "               \"others\"]\n",
    "plt.legend(ynotsch_list, loc='center left', bbox_to_anchor=(1, 0.5))\n",
    "plt.title(\"Figure 14. Reasons for Not Studying\", y = -0.25)"
   ]
  },
  {
   "cell_type": "markdown",
   "metadata": {},
   "source": [
    "From Figure 14, looking for employment and being too young were primary reasons across all educational attainment groups. This was especially so for households where the household head stopped studying ealier.\n",
    "\n",
    "Most notably, for households where the household head finished up to grade school or high school, the high cost of education and a lack of interest on the part of the children were reasons not commonly found among the other two groups. "
   ]
  },
  {
   "cell_type": "markdown",
   "metadata": {},
   "source": [
    "<b> SUMMARY: </b>\n",
    "\n",
    "Summarily, households where the household head stopped school early are associated with higher non-attendance rates. Most of the dropouts happen to be around 17 years old, regardless of educational attainment. This suggests that many of the non-attending children stop at high school.\n",
    "\n",
    "We posited that this may be the case because (1) they start looking for work or (2) they begin families at a young age. Using exploratory data analysis, we found out that this may very well be the case, especially for households where the household head stopped school early.\n",
    "\n",
    "Finally, by looking at the reasons why the children stopped attending school, we note that in general, many of the dropouts seek employment after high school. Moreover, there are some marked differences between the responses of those where the household head dropped out early and of those where they stayed up to vocational school/college."
   ]
  },
  {
   "cell_type": "markdown",
   "metadata": {},
   "source": [
    "##### 3) What jobs are associated with household heads with a certain educational attainment?"
   ]
  },
  {
   "cell_type": "markdown",
   "metadata": {},
   "source": [
    "Another way by which the household head's educational attainment can influence a household's poverty status is by affecting his/her own employment outcomes. Education is supposed to help one hone skills for gainful employment. Thus, we assume that households with less educated household heads must have less profitable jobs, making them more vulnerable to poverty."
   ]
  },
  {
   "cell_type": "code",
   "execution_count": 319,
   "metadata": {},
   "outputs": [],
   "source": [
    "# Generate necessary variables\n",
    "hh_subset = df_mem_2014[[\"mainid\", \"reln\", \"psoc4\", \"jstatus\"]]\n",
    "hh_subset = hh_subset[hh_subset[\"reln\"] == 1].reset_index(drop = True)\n",
    "hh_subset = hh_subset.drop(\"reln\", axis = 1)\n",
    "\n",
    "df_hh_2014 = pd.merge(df_hh_2014, hh_subset, on = \"mainid\", how = \"left\")"
   ]
  },
  {
   "cell_type": "markdown",
   "metadata": {},
   "source": [
    "As with awhile ago, we get variables from the member-level dataset and append them to the household-level dataset."
   ]
  },
  {
   "cell_type": "code",
   "execution_count": 320,
   "metadata": {},
   "outputs": [],
   "source": [
    "# Clean psoc4 column and generate psoc42 column\n",
    "valid_vals = [str(i) for i in np.arange(1, 10)]\n",
    "\n",
    "df_hh_2014[\"psoc4\"].fillna(0, inplace = True)\n",
    "df_hh_2014[\"psoc4\"] = df_hh_2014[\"psoc4\"].apply(lambda x: str(x))\n",
    "df_hh_2014[\"psoc42\"] = df_hh_2014[\"psoc4\"].apply(lambda x: x[0] if x[0] in valid_vals else 0)\n",
    "df_hh_2014[\"psoc42\"] = df_hh_2014[\"psoc42\"].drop(df_hh_2014[df_hh_2014[\"psoc42\"] == 0].index, axis = 0)"
   ]
  },
  {
   "cell_type": "markdown",
   "metadata": {},
   "source": [
    "We begin by plotting `psoc42`, a variable derived from `psoc4 `which describes the type of job the household heads are employed in."
   ]
  },
  {
   "cell_type": "code",
   "execution_count": 321,
   "metadata": {},
   "outputs": [
    {
     "data": {
      "text/plain": [
       "Text(0.5,-1.3,'Figure 15. Primary Occupation Group')"
      ]
     },
     "execution_count": 321,
     "metadata": {},
     "output_type": "execute_result"
    },
    {
     "data": {
      "image/png": "[encoded data removed]",
      "text/plain": [
       "<Figure size 432x288 with 1 Axes>"
      ]
     },
     "metadata": {},
     "output_type": "display_data"
    }
   ],
   "source": [
    "# Plot psoc42\n",
    "hh_subset = df_hh_2014.groupby([\"psoc42\", \"educal2\"])[\"psoc42\"].count() / df_hh_2014.groupby(\"psoc42\")[\"psoc42\"].count()\n",
    "hh_subset = hh_subset.unstack(\"educal2\")\n",
    "ax = hh_subset.plot.bar(stacked = True, legend = False)\n",
    "ax.set_xlabel(\"Occupation\")\n",
    "ax.set_ylabel(\"Frequency\")\n",
    "ax.legend(loc='center left', bbox_to_anchor=(1, 0.5))\n",
    "occ_labels = [\"Officials of Government and SPIN Organizations\", \"Professionals\", \"Technicians and Associate Professionals\", \\\n",
    "              \"Clerks\", \"Service Workers and Sales Workers\", \"Farmers, Forestry Workers and Fishermen\", \"Trades and Related Workers\", \\\n",
    "              \"Plant and Machine Operators and Assemblers\", \"Laborers and Unskilled Workers\"]\n",
    "ax.set_xticklabels(occ_labels)\n",
    "ax.set_title(\"Figure 15. Primary Occupation Group\", y = -1.3)"
   ]
  },
  {
   "cell_type": "markdown",
   "metadata": {},
   "source": [
    "From Figure 15, we find that most household heads who finished within grade school and high school take on mostly unskilled jobs, whereas household heads who finished within college take on mostly professional jobs, again reinforcing the fact that education helps develop skills to take on higher-paying jobs."
   ]
  },
  {
   "cell_type": "markdown",
   "metadata": {},
   "source": [
    "We also plot the educational attainment of the household head against the nature of employment, described by the variable `jstatus`."
   ]
  },
  {
   "cell_type": "code",
   "execution_count": 322,
   "metadata": {},
   "outputs": [],
   "source": [
    "# Clean jstatus column\n",
    "df_hh_2014[\"jstatus\"] = df_hh_2014[\"jstatus\"].dropna(axis = 0)\n",
    "df_hh_2014[\"jstatus\"] = df_hh_2014[\"jstatus\"].apply(lambda x: \"permanent\" if x == 1 else(\"short-term\" if x == 2 else \"different jobs\"))"
   ]
  },
  {
   "cell_type": "code",
   "execution_count": 323,
   "metadata": {},
   "outputs": [
    {
     "data": {
      "text/plain": [
       "Text(0.5,-0.6,'Figure 16. Nature of Employment')"
      ]
     },
     "execution_count": 323,
     "metadata": {},
     "output_type": "execute_result"
    },
    {
     "data": {
      "image/png": "[encoded data removed]",
      "text/plain": [
       "<Figure size 432x288 with 1 Axes>"
      ]
     },
     "metadata": {},
     "output_type": "display_data"
    }
   ],
   "source": [
    "# Plot jstatus\n",
    "hh_subset = df_hh_2014.groupby([\"jstatus\", \"educal2\"])[\"jstatus\"].count() / df_hh_2014.groupby(\"jstatus\")[\"jstatus\"].count()\n",
    "hh_subset = hh_subset.unstack(\"educal2\")\n",
    "ax = hh_subset.plot.bar(stacked = True, legend = False)\n",
    "ax.set_xlabel(\"Job Status\")\n",
    "ax.set_ylabel(\"Frequency\")\n",
    "ax.legend(loc='center left', bbox_to_anchor=(1, 0.5))\n",
    "ax.set_title(\"Figure 16. Nature of Employment\", y = -0.6)"
   ]
  },
  {
   "cell_type": "markdown",
   "metadata": {},
   "source": [
    "Figure 16 tells us that most of the employed household heads who finished within grade school seem to move from job to job. Meanwhile, most of the employed household heads who finished within high school at least have short-term employment, while most of the employed household heads who are college graduates have permanent employment. "
   ]
  },
  {
   "cell_type": "markdown",
   "metadata": {},
   "source": [
    "<b> SUMMARY: </b>\n",
    "    \n",
    "We find that less educated household heads are associated with unskilled jobs and are more likely to flit from job to job. On the other hand, those who chose to pursue higher education have more permanent and high-paying jobs. This does not come as a surprise to us, but it is a factor which helps explain why households with heads who dropped out of school earlier are more likely to be poor on average. "
   ]
  },
  {
   "cell_type": "markdown",
   "metadata": {},
   "source": [
    "### 3.3.3 Statistical Analysis"
   ]
  },
  {
   "cell_type": "markdown",
   "metadata": {},
   "source": [
    "Since the CBMS dataset is itself a sample of the entire Pasay City population, we use the entire dataset for the statistical analysis."
   ]
  },
  {
   "cell_type": "markdown",
   "metadata": {},
   "source": [
    "##### 1) How is the educational attainment of the household head related to particular poverty measures/correlates (e.g., income per capita, family size, dependency ratio, etc.)? "
   ]
  },
  {
   "cell_type": "markdown",
   "metadata": {},
   "source": [
    "To determine whether the educational attainment of a household head is independent of the household's poverty status or not, we use the <b> chi-squared test of independence </b>. The chi-squared test of independence is used to relate two categorical variables, and determines whether or not both variables are independent or not independent."
   ]
  },
  {
   "cell_type": "markdown",
   "metadata": {},
   "source": [
    "Following the steps of hypothesis testing, "
   ]
  },
  {
   "cell_type": "markdown",
   "metadata": {},
   "source": [
    "##### Step 1: Formulate the null hypothesis $H_0$ and the alternative hypothesis $H_a$. "
   ]
  },
  {
   "cell_type": "markdown",
   "metadata": {},
   "source": [
    "$H_0$: The educational attainment of a household head is independent of a household's poverty status. \n",
    "\n",
    "$H_a$: The educational attainment of a household head is NOT independent of a household's poverty status."
   ]
  },
  {
   "cell_type": "markdown",
   "metadata": {},
   "source": [
    "##### Step 2: Decide on a level of significance $α$"
   ]
  },
  {
   "cell_type": "markdown",
   "metadata": {},
   "source": [
    "We choose $\\alpha = 0.05$"
   ]
  },
  {
   "cell_type": "code",
   "execution_count": 324,
   "metadata": {},
   "outputs": [],
   "source": [
    "alpha = 0.05"
   ]
  },
  {
   "cell_type": "markdown",
   "metadata": {},
   "source": [
    "##### Step 3: Choose (and compute) the appropriate test statistic."
   ]
  },
  {
   "cell_type": "markdown",
   "metadata": {},
   "source": [
    "We first make the appropriate table detailing educational attainment and poverty status."
   ]
  },
  {
   "cell_type": "code",
   "execution_count": 325,
   "metadata": {},
   "outputs": [
    {
     "data": {
      "text/html": [
       "<div>\n",
       "<style scoped>\n",
       "    .dataframe tbody tr th:only-of-type {\n",
       "        vertical-align: middle;\n",
       "    }\n",
       "\n",
       "    .dataframe tbody tr th {\n",
       "        vertical-align: top;\n",
       "    }\n",
       "\n",
       "    .dataframe thead th {\n",
       "        text-align: right;\n",
       "    }\n",
       "</style>\n",
       "<table border=\"1\" class=\"dataframe\">\n",
       "  <thead>\n",
       "    <tr style=\"text-align: right;\">\n",
       "      <th></th>\n",
       "      <th>poor</th>\n",
       "      <th>non-poor</th>\n",
       "    </tr>\n",
       "    <tr>\n",
       "      <th>educal2</th>\n",
       "      <th></th>\n",
       "      <th></th>\n",
       "    </tr>\n",
       "  </thead>\n",
       "  <tbody>\n",
       "    <tr>\n",
       "      <th>college</th>\n",
       "      <td>1152</td>\n",
       "      <td>22479</td>\n",
       "    </tr>\n",
       "    <tr>\n",
       "      <th>grade school</th>\n",
       "      <td>1010</td>\n",
       "      <td>4400</td>\n",
       "    </tr>\n",
       "    <tr>\n",
       "      <th>high school</th>\n",
       "      <td>3508</td>\n",
       "      <td>24246</td>\n",
       "    </tr>\n",
       "    <tr>\n",
       "      <th>vocational</th>\n",
       "      <td>131</td>\n",
       "      <td>1988</td>\n",
       "    </tr>\n",
       "  </tbody>\n",
       "</table>\n",
       "</div>"
      ],
      "text/plain": [
       "              poor  non-poor\n",
       "educal2                     \n",
       "college       1152     22479\n",
       "grade school  1010      4400\n",
       "high school   3508     24246\n",
       "vocational     131      1988"
      ]
     },
     "execution_count": 325,
     "metadata": {},
     "output_type": "execute_result"
    }
   ],
   "source": [
    "# Create table\n",
    "poor_grp = df_hh_2014.groupby(\"educal2\")[\"ispoor\"].sum().to_frame(\"poor\").reset_index()\n",
    "non_poor_grp = (df_hh_2014.groupby(\"educal2\")[\"educal\"].count() - df_hh_2014.groupby(\"educal2\")[\"ispoor\"].sum()).to_frame(\"non-poor\").reset_index()\n",
    "pov_table = pd.merge(poor_grp, non_poor_grp, on = \"educal2\")\n",
    "pov_table.set_index(\"educal2\", inplace = True)\n",
    "pov_table"
   ]
  },
  {
   "cell_type": "markdown",
   "metadata": {},
   "source": [
    "We can calculate the chi-squared test statistic using the package `scipy.stats`."
   ]
  },
  {
   "cell_type": "code",
   "execution_count": 326,
   "metadata": {},
   "outputs": [
    {
     "data": {
      "text/plain": [
       "1408.3059147954496"
      ]
     },
     "execution_count": 326,
     "metadata": {},
     "output_type": "execute_result"
    }
   ],
   "source": [
    "# Calculate the test statistic\n",
    "import scipy.stats as stats\n",
    "\n",
    "pov_table_list = []\n",
    "for row in pov_table.index.values:\n",
    "    pov_table_list.append([pov_table.loc[row, col] for col in pov_table.columns])\n",
    "\n",
    "stat, p, dof, expected = stats.chi2_contingency(pov_table_list)\n",
    "stat"
   ]
  },
  {
   "cell_type": "markdown",
   "metadata": {},
   "source": [
    "##### Step 4: Formulate the decision rule."
   ]
  },
  {
   "cell_type": "markdown",
   "metadata": {},
   "source": [
    "For a chi-squared test of independence (or for any test involving the chi-squared distribution for that matter), we reject the null hypothesis if the chi-squared test statistic is greater than the critical value, and we do not reject it if the test statistic is less than the critical value.\n",
    "\n",
    "To get the critical value, we need `prob`, which is the 1 - level of significance and `dof`, which is the degrees of freedom, computed earlier and stored in the variable `dof`."
   ]
  },
  {
   "cell_type": "code",
   "execution_count": 327,
   "metadata": {},
   "outputs": [
    {
     "data": {
      "text/plain": [
       "7.8147279032511765"
      ]
     },
     "execution_count": 327,
     "metadata": {},
     "output_type": "execute_result"
    }
   ],
   "source": [
    "# Compute for critical value\n",
    "crit_val = stats.chi2.ppf(1 - alpha, dof)\n",
    "crit_val"
   ]
  },
  {
   "cell_type": "markdown",
   "metadata": {},
   "source": [
    "Thus, the decision rule is:"
   ]
  },
  {
   "cell_type": "code",
   "execution_count": 328,
   "metadata": {},
   "outputs": [
    {
     "name": "stdout",
     "output_type": "stream",
     "text": [
      "Reject Ho if test statistic >= 7.815. Otherwise, fail to reject null hypothesis\n"
     ]
    }
   ],
   "source": [
    "print(\"Reject Ho if test statistic >= {:0.3f}. Otherwise, fail to reject null hypothesis\".format(crit_val))"
   ]
  },
  {
   "cell_type": "markdown",
   "metadata": {},
   "source": [
    "We can also use the p-value, which has been computed for us and stored in the variable `p`. In this case, the decision rule will be:"
   ]
  },
  {
   "cell_type": "code",
   "execution_count": 329,
   "metadata": {},
   "outputs": [
    {
     "name": "stdout",
     "output_type": "stream",
     "text": [
      "Reject Ho if p-value <= 0.05. Otherwise, fail to reject null hypothesis\n"
     ]
    }
   ],
   "source": [
    "print(\"Reject Ho if p-value <= {:0.2f}. Otherwise, fail to reject null hypothesis\".format(alpha))"
   ]
  },
  {
   "cell_type": "markdown",
   "metadata": {},
   "source": [
    "##### Step 5: Make a decision."
   ]
  },
  {
   "cell_type": "code",
   "execution_count": 330,
   "metadata": {},
   "outputs": [
    {
     "data": {
      "text/plain": [
       "4.643578614619001e-305"
      ]
     },
     "execution_count": 330,
     "metadata": {},
     "output_type": "execute_result"
    }
   ],
   "source": [
    "p"
   ]
  },
  {
   "cell_type": "markdown",
   "metadata": {},
   "source": [
    "Using the p-value approach, 3.736e-27 < 0.05. From the decision rule, we reject $H_0$. "
   ]
  },
  {
   "cell_type": "markdown",
   "metadata": {},
   "source": [
    "##### Step 6: Make a conclusion."
   ]
  },
  {
   "cell_type": "markdown",
   "metadata": {},
   "source": [
    "At $\\alpha = 5\\%$, we can conclude that educational attainment of a household head is NOT independent of a household's poverty status.\n",
    "\n",
    "The test only determines independence and not the direction of relationship. For this, we would have to inspect trends in the data. From Figure 2, we see that a lower educational attainment is associated with higher poverty incidence. Thus, we can conclude that households where the household head stopped attending school earlier are more likely to experience poverty."
   ]
  },
  {
   "cell_type": "markdown",
   "metadata": {},
   "source": [
    "##### 2) How does the educational attainment of the household head affect the educational outcomes of his/her children? "
   ]
  },
  {
   "cell_type": "markdown",
   "metadata": {},
   "source": [
    "To determine whether the educational attainment of a household head affects his/her children's educational outcomes, we focus on how the household head's educational attainment affects non-attendance rates among his/her children. For this purpose, we can use a <b> logistic regression </b> to determine how the educational attainment of the household head affects the probability of his/her child of going past high school into vocational courses or college."
   ]
  },
  {
   "cell_type": "code",
   "execution_count": 331,
   "metadata": {},
   "outputs": [],
   "source": [
    "# Gather necessary variables and append to df_mem_2014 dataset\n",
    "hh_subset = df_hh_2014[[\"mainid\", \"depratio\", \"sex\", \"age_yr\", \"educal\", \"ispoor\"]]\n",
    "df_mem_2014 = pd.merge(df_mem_2014, hh_subset, on = \"mainid\", how = \"left\")"
   ]
  },
  {
   "cell_type": "code",
   "execution_count": 332,
   "metadata": {},
   "outputs": [],
   "source": [
    "# Generate dummy variables (sex)\n",
    "# baseline: male\n",
    "df_mem_2014[\"female\"] = df_mem_2014[\"sex_y\"].apply(lambda x: 1 if x == 0 else 0)\n",
    "\n",
    "# Generate dummy variables (educal)\n",
    "# baseline: college\n",
    "df_mem_2014[\"gradeschool\"] = df_mem_2014[\"educal2\"].apply(lambda x: 1 if (x == \"grade school\" or x == \"high school\" or  x == \"vocational\" or x == \"college\") else 0) \n",
    "df_mem_2014[\"highschool\"] = df_mem_2014[\"educal2\"].apply(lambda x: 1 if (x == \"high school\" or  x == \"vocational\" or x == \"college\") else 0)\n",
    "df_mem_2014[\"vocational\"] = df_mem_2014[\"educal2\"].apply(lambda x: 1 if x == \"vocational\" else 0)\n",
    "\n",
    "# Generate dependent variable (afterhighschool)\n",
    "df_mem_2014[\"afterhighschool\"] = df_mem_2014[\"educal3\"].apply(lambda x: 1 if (x == \"vocational\" or x == \"college\") else 0)"
   ]
  },
  {
   "cell_type": "code",
   "execution_count": 333,
   "metadata": {},
   "outputs": [
    {
     "name": "stdout",
     "output_type": "stream",
     "text": [
      "Optimization terminated successfully.\n",
      "         Current function value: 0.270844\n",
      "         Iterations 8\n",
      "                         Results: Logit\n",
      "=================================================================\n",
      "Model:              Logit            No. Iterations:   8.0000    \n",
      "Dependent Variable: afterhighschool  Pseudo R-squared: 0.228     \n",
      "Date:               2018-12-13 23:43 AIC:              23057.9286\n",
      "No. Observations:   42541            BIC:              23118.5361\n",
      "Df Model:           6                Log-Likelihood:   -11522.   \n",
      "Df Residuals:       42534            LL-Null:          -14917.   \n",
      "Converged:          1.0000           Scale:            1.0000    \n",
      "------------------------------------------------------------------\n",
      "              Coef.   Std.Err.     z      P>|z|    [0.025   0.975]\n",
      "------------------------------------------------------------------\n",
      "depratio     -5.5023    0.0912  -60.3096  0.0000  -5.6812  -5.3235\n",
      "sex_x         0.2429    0.0337    7.2145  0.0000   0.1769   0.3089\n",
      "age_yr_y      0.0554    0.0018   30.1710  0.0000   0.0518   0.0590\n",
      "gradeschool  -3.9554    0.1285  -30.7910  0.0000  -4.2071  -3.7036\n",
      "highschool    0.6021    0.0661    9.1118  0.0000   0.4726   0.7317\n",
      "vocational    0.0931    0.0911    1.0221  0.3067  -0.0854   0.2717\n",
      "ispoor       -0.4291    0.0520   -8.2572  0.0000  -0.5310  -0.3273\n",
      "=================================================================\n",
      "\n"
     ]
    }
   ],
   "source": [
    "# Specify y (dependent variable) and x (independent variable) and run logistic regression\n",
    "df_mem_2014_sub = df_mem_2014[(df_mem_2014[\"reln\"].isin([3, 4, 5])) & (df_mem_2014[\"age_yr_x\"] >= 6) & (df_mem_2014[\"age_yr_x\"] <= 20)]\n",
    "df_mem_2014_sub = df_mem_2014_sub[[\"afterhighschool\", \"depratio\", \"sex_x\", \"age_yr_y\", \"highschool\", \"vocational\", \"gradeschool\", \"ispoor\"]]\n",
    "df_mem_2014_sub = df_mem_2014_sub.dropna(axis = 0)\n",
    "\n",
    "import statsmodels.api as sm\n",
    "y = df_mem_2014_sub[\"afterhighschool\"]\n",
    "x = df_mem_2014_sub[[\"depratio\", \"sex_x\", \"age_yr_y\", \"gradeschool\", \"highschool\", \"vocational\", \"ispoor\"]]\n",
    "\n",
    "logit_model=sm.Logit(y,x)\n",
    "result=logit_model.fit()\n",
    "print(result.summary2())"
   ]
  },
  {
   "cell_type": "markdown",
   "metadata": {},
   "source": [
    "From the results, you can see that the dependency ratio, the family being poor and the household head finishing within or up to grade school have negative coefficients. This means that these factors negatively affect the probability that the child proceeds to vocational courses/college after high school. \n",
    "\n",
    "On the other hand, the age of the household head and the household head finishing high school or vocational school have positive coefficients, meaning that these encourage children to go past high school.\n",
    "\n",
    "The coefficients for `gradeschool`, `highschool` and `vocational` are to be interpreted relative to the baseline, which is the household head finishing up to or within grade school. Thus, the household heads finishing high school or vocational school in addition to college are more likely to have children who will proceed past high school. Meanwhile, households where the household heads finished grade school are less likely to do so compared to those where the household heads finished college.\n",
    "\n",
    "The same is trye for the variable `sex_x`. Thus, females are more likely to proceed after high school compared to males.\n",
    "\n",
    "Moreover, all variables except `vocational` are signficant since their p-values are less than the level of significance we have chosen, which is 0.05.\n",
    "\n",
    "Do note that the model could be improved upon. However, the results are mostly in line with what had been observed in the exploratory data analysis part."
   ]
  },
  {
   "cell_type": "markdown",
   "metadata": {},
   "source": [
    "## 4. CONCLUSION"
   ]
  },
  {
   "cell_type": "markdown",
   "metadata": {},
   "source": [
    "From point 1 in part 3, we determined that households where the household heads stopped attending school earlier are poorer on average. Based on the other poverty correlates, they also bear the burden of having larger families, more dependents, and are more likely (on average) to experience food shortage and to participate in the government's CCT program.\n",
    "\n",
    "We explore why this is the case in points 2 and 3. In point 2, we explore how the household head's educational attainment can affect his/her children's or grandchildren's educational outcomes. We found out that on average, households where the head stopped attending school earlier tend to be associated with higher non-attendance rates. We also posited that most of the students stop after high school, and that in some cases, it may be due to a child opting to help support his/her family or a child getting pregnant early into her teens. Upon delving into their reasons, we find that among households where the head stopped attending school earlier, the children felt like the cost of education was too high or that they did not find interest in their studies anymore.\n",
    "\n",
    "We also explore how the educational attainment of the household head affects his/her job outcomes. Again, household heads who stopped attending school earlier tend to have unskilled jobs and they also tend to move from job to job. Meanwhile, household heads who had at least reached college were predominant in managerial and professional jobs, and primarily had permanent employment. \n",
    "\n",
    "To test our observations in the exploratory data analysis part, we employed a chi-squared test and a logistic. We conclude that the educational attainment of the household head is related to a household's poverty status, and that this is due in part to the household head's educational attainment affecting a child's probability of going past high school.\n",
    "\n",
    "All in all, while college is not a guarantee to a good life, as the graphs suggest, it at least makes it more likely for one to achieve better job outcomes, and for one's children/grandchildren to achieve better educational outcomes. Moreover, we emphasized in part 2 that poorer households tend to forgo education, so that when they start their own households, those too are more likely to become poor. Thus, poverty can influence lower educational outcomes, but as we emphasized in part 3, lower educational outcomes also influence one's job outcomes, thus reinforcing poverty. This paints a picture of poverty being a vicious cycle, with education (or lack thereof) being one of the main contributors. The role of education in this poverty trap deserves to be emphasized and studied more using government datasets like the CBMS.   \n",
    "\n",
    "We would like to recommend that barangays start using the educational attainment of household heads as a screening variable to determine targets for their government programs. We also recommend that they institute family planning, sex education and career counselling programs for households where the household head dropped early."
   ]
  }
 ],
 "metadata": {
  "kernelspec": {
   "display_name": "Python 3",
   "language": "python",
   "name": "python3"
  },
  "language_info": {
   "codemirror_mode": {
    "name": "ipython",
    "version": 3
   },
   "file_extension": ".py",
   "mimetype": "text/x-python",
   "name": "python",
   "nbconvert_exporter": "python",
   "pygments_lexer": "ipython3",
   "version": "3.7.4"
  }
 },
 "nbformat": 4,
 "nbformat_minor": 2
}
